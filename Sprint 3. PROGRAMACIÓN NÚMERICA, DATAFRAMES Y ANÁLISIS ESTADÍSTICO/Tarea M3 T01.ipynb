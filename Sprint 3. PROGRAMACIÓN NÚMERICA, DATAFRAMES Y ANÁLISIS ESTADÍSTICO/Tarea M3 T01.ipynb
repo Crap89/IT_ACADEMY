{
 "cells": [
  {
   "cell_type": "code",
   "execution_count": 1,
   "metadata": {},
   "outputs": [
    {
     "name": "stderr",
     "output_type": "stream",
     "text": [
      "C:\\Users\\crap-\\AppData\\Local\\Temp\\ipykernel_10288\\1600336652.py:3: DeprecationWarning: Please use `pearsonr` from the `scipy.stats` namespace, the `scipy.stats.stats` namespace is deprecated.\n",
      "  from scipy.stats.stats import pearsonr\n"
     ]
    }
   ],
   "source": [
    "import numpy as np\n",
    "from random import randint\n",
    "from scipy.stats.stats import pearsonr\n",
    "from statistics import median"
   ]
  },
  {
   "attachments": {},
   "cell_type": "markdown",
   "metadata": {},
   "source": [
    "Ejercicio 1:\n",
    "\n",
    "Crea una función que dado un Array de una dimensión, te haga un resumen estadístico básico de los datos. Si detecta que el array tiene más de una dimensión, debe mostrar un mensaje de error."
   ]
  },
  {
   "cell_type": "code",
   "execution_count": 2,
   "metadata": {},
   "outputs": [
    {
     "name": "stdout",
     "output_type": "stream",
     "text": [
      "3.5\n",
      "6.5\n",
      "Rango Intercuantil:  3.0\n"
     ]
    }
   ],
   "source": [
    "# Esto fue lo que pude hacer, lo siento!\n",
    "d = [1, 2, 3, 4, 4, 4, 6, 6, 7, 8, 8]\n",
    "d2 = np.array(d)\n",
    "primer_cuantil = np.percentile(d2, 25)\n",
    "tercer_cuantil = np.percentile(d2, 75)\n",
    "\n",
    "print(primer_cuantil) \n",
    "print(tercer_cuantil) \n",
    "print(\"Rango Intercuantil: \", tercer_cuantil - primer_cuantil)"
   ]
  },
  {
   "attachments": {},
   "cell_type": "markdown",
   "metadata": {},
   "source": [
    "Ejercicio 2:\n",
    "\n",
    "Crea una función que genere un cuadrado NxN de números aleatorios entre el 0 y el 100."
   ]
  },
  {
   "cell_type": "code",
   "execution_count": 3,
   "metadata": {},
   "outputs": [
    {
     "data": {
      "text/plain": [
       "[[65, 1, 65, 29], [53, 1, 31, 6], [21, 98, 38, 63], [34, 99, 88, 6]]"
      ]
     },
     "execution_count": 3,
     "metadata": {},
     "output_type": "execute_result"
    }
   ],
   "source": [
    "def llenar_matriz(n):\n",
    "    return[[randint(0, 100) for j in range(n)] for i in range(n)]\n",
    "\n",
    "resultado= llenar_matriz(4)\n",
    "resultado"
   ]
  },
  {
   "attachments": {},
   "cell_type": "markdown",
   "metadata": {},
   "source": [
    "Ejercicio 3:\n",
    "\n",
    "Crea una función que dada una tabla de dos dimensiones (NxM), te calcule los totales por fila y los totales por columna."
   ]
  },
  {
   "cell_type": "code",
   "execution_count": 4,
   "metadata": {},
   "outputs": [
    {
     "name": "stdout",
     "output_type": "stream",
     "text": [
      "[25, 69, 51, 26]\n",
      "[68, 35, 29, 54]\n",
      "\n",
      "[25, 69, 51, 26, 171]\n",
      "[68, 35, 29, 54, 186]\n",
      "\n",
      "[25, 69, 51, 26, 171]\n",
      "[68, 35, 29, 54, 186]\n",
      "[93, 104, 80, 80, 357]\n"
     ]
    }
   ],
   "source": [
    "def mostrar_matriz(matriz):\n",
    "    for fila in matriz:\n",
    "        print(fila)\n",
    "\n",
    "matriz = [\n",
    "    [25, 69, 51, 26],\n",
    "    [68, 35, 29, 54]]\n",
    "\n",
    "mostrar_matriz(matriz)\n",
    "\n",
    "filas = len(matriz)\n",
    "columnas = len(matriz[0])\n",
    "\n",
    "for i in range(filas):\n",
    "    suma = sum(matriz[i])\n",
    "    matriz[i].append(suma)\n",
    "\n",
    "print()\n",
    "\n",
    "mostrar_matriz(matriz)\n",
    "\n",
    "print()\n",
    "\n",
    "nueva_fila = []\n",
    "\n",
    "for j in range(columnas):\n",
    "    suma = sum([fila[j] for fila in matriz])\n",
    "    nueva_fila.append(suma)\n",
    "\n",
    "nueva_fila.append(sum(nueva_fila))\n",
    "\n",
    "matriz.append(nueva_fila)\n",
    "\n",
    "mostrar_matriz(matriz)"
   ]
  },
  {
   "attachments": {},
   "cell_type": "markdown",
   "metadata": {},
   "source": [
    "Ejercicio 4:\n",
    "\n",
    "Implementa manualmente una función que calcule el coeficiente de correlación. Infórmate sobre sus usos e interpretación."
   ]
  },
  {
   "cell_type": "code",
   "execution_count": 5,
   "metadata": {},
   "outputs": [
    {
     "data": {
      "text/plain": [
       "array([[ 1.        , -0.83802304],\n",
       "       [-0.83802304,  1.        ]])"
      ]
     },
     "execution_count": 5,
     "metadata": {},
     "output_type": "execute_result"
    }
   ],
   "source": [
    "# Opción 1:\n",
    "var1 = [25, 69, 51, 26]\n",
    "var2 = [68, 35, 29, 54]\n",
    "\n",
    "np.corrcoef(var1, var2)"
   ]
  },
  {
   "cell_type": "code",
   "execution_count": 6,
   "metadata": {},
   "outputs": [
    {
     "data": {
      "text/plain": [
       "(-0.8380230365617334, 0.16197696343826662)"
      ]
     },
     "execution_count": 6,
     "metadata": {},
     "output_type": "execute_result"
    }
   ],
   "source": [
    "# Opción 2:\n",
    "corr, coeficiente= pearsonr(var1, var2)\n",
    "corr, coeficiente"
   ]
  }
 ],
 "metadata": {
  "kernelspec": {
   "display_name": "Python 3",
   "language": "python",
   "name": "python3"
  },
  "language_info": {
   "codemirror_mode": {
    "name": "ipython",
    "version": 3
   },
   "file_extension": ".py",
   "mimetype": "text/x-python",
   "name": "python",
   "nbconvert_exporter": "python",
   "pygments_lexer": "ipython3",
   "version": "3.11.0"
  },
  "orig_nbformat": 4,
  "vscode": {
   "interpreter": {
    "hash": "27c1110b5e405fc710fcb57f45fb47e0ad422e539c59a8efd70236c2a11a631c"
   }
  }
 },
 "nbformat": 4,
 "nbformat_minor": 2
}
