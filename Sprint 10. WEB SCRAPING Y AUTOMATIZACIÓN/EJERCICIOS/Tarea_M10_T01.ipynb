{
  "nbformat": 4,
  "nbformat_minor": 0,
  "metadata": {
    "colab": {
      "provenance": []
    },
    "kernelspec": {
      "name": "python3",
      "display_name": "Python 3"
    },
    "language_info": {
      "name": "python"
    },
    "gpuClass": "standard"
  },
  "cells": [
    {
      "cell_type": "markdown",
      "source": [
        "# Ejercicios de Web Scraping.\n",
        "\n",
        "# Ejercicio 1\n",
        "\n",
        "Realiza web scraping de dos de las tres páginas web propuestas utilizando BeautifulSoup primero y Selenium después. \n",
        "\n",
        "* http://quotes.toscrape.com\n",
        "\n",
        "* https://www.bolsamadrid.es\n",
        "\n",
        "* www.wikipedia.es (haz alguna búsqueda primero y aplasta algún contenido)\n",
        "\n",
        "\n",
        "# Primera web http://quotes.toscrape.com\n",
        "# **Web Scraping con BeautifulSoup:**\n",
        "\n",
        "Beautiful Soup es una librería Python que permite extraer información de contenido en formato HTML o XML.\n",
        "\n",
        "Hemos elegido la web http://quotes.toscrape.com para hacer este proyecto de web scraping, es una web estática, el servidor que almacena la web nos devolverá un documento HTML que contendrá los datos que vemos cuando navegamos por la web."
      ],
      "metadata": {
        "id": "ttR_lbjQ_oxi"
      }
    },
    {
      "cell_type": "code",
      "source": [
        "!pip install undetected-chromedriver"
      ],
      "metadata": {
        "colab": {
          "base_uri": "https://localhost:8080/"
        },
        "id": "S84gfCGnwpLV",
        "outputId": "b630b671-1452-490c-e699-ff47db2a71e2"
      },
      "execution_count": null,
      "outputs": [
        {
          "output_type": "stream",
          "name": "stdout",
          "text": [
            "Looking in indexes: https://pypi.org/simple, https://us-python.pkg.dev/colab-wheels/public/simple/\n",
            "Requirement already satisfied: undetected-chromedriver in /usr/local/lib/python3.9/dist-packages (3.4.6)\n",
            "Requirement already satisfied: requests in /usr/local/lib/python3.9/dist-packages (from undetected-chromedriver) (2.27.1)\n",
            "Requirement already satisfied: selenium>=4.0.0 in /usr/local/lib/python3.9/dist-packages (from undetected-chromedriver) (4.8.3)\n",
            "Requirement already satisfied: websockets in /usr/local/lib/python3.9/dist-packages (from undetected-chromedriver) (11.0.1)\n",
            "Requirement already satisfied: certifi>=2021.10.8 in /usr/local/lib/python3.9/dist-packages (from selenium>=4.0.0->undetected-chromedriver) (2022.12.7)\n",
            "Requirement already satisfied: urllib3[socks]~=1.26 in /usr/local/lib/python3.9/dist-packages (from selenium>=4.0.0->undetected-chromedriver) (1.26.15)\n",
            "Requirement already satisfied: trio-websocket~=0.9 in /usr/local/lib/python3.9/dist-packages (from selenium>=4.0.0->undetected-chromedriver) (0.10.2)\n",
            "Requirement already satisfied: trio~=0.17 in /usr/local/lib/python3.9/dist-packages (from selenium>=4.0.0->undetected-chromedriver) (0.22.0)\n",
            "Requirement already satisfied: charset-normalizer~=2.0.0 in /usr/local/lib/python3.9/dist-packages (from requests->undetected-chromedriver) (2.0.12)\n",
            "Requirement already satisfied: idna<4,>=2.5 in /usr/local/lib/python3.9/dist-packages (from requests->undetected-chromedriver) (3.4)\n",
            "Requirement already satisfied: exceptiongroup>=1.0.0rc9 in /usr/local/lib/python3.9/dist-packages (from trio~=0.17->selenium>=4.0.0->undetected-chromedriver) (1.1.1)\n",
            "Requirement already satisfied: sortedcontainers in /usr/local/lib/python3.9/dist-packages (from trio~=0.17->selenium>=4.0.0->undetected-chromedriver) (2.4.0)\n",
            "Requirement already satisfied: sniffio in /usr/local/lib/python3.9/dist-packages (from trio~=0.17->selenium>=4.0.0->undetected-chromedriver) (1.3.0)\n",
            "Requirement already satisfied: attrs>=19.2.0 in /usr/local/lib/python3.9/dist-packages (from trio~=0.17->selenium>=4.0.0->undetected-chromedriver) (22.2.0)\n",
            "Requirement already satisfied: outcome in /usr/local/lib/python3.9/dist-packages (from trio~=0.17->selenium>=4.0.0->undetected-chromedriver) (1.2.0)\n",
            "Requirement already satisfied: async-generator>=1.9 in /usr/local/lib/python3.9/dist-packages (from trio~=0.17->selenium>=4.0.0->undetected-chromedriver) (1.10)\n",
            "Requirement already satisfied: wsproto>=0.14 in /usr/local/lib/python3.9/dist-packages (from trio-websocket~=0.9->selenium>=4.0.0->undetected-chromedriver) (1.2.0)\n",
            "Requirement already satisfied: PySocks!=1.5.7,<2.0,>=1.5.6 in /usr/local/lib/python3.9/dist-packages (from urllib3[socks]~=1.26->selenium>=4.0.0->undetected-chromedriver) (1.7.1)\n",
            "Requirement already satisfied: h11<1,>=0.9.0 in /usr/local/lib/python3.9/dist-packages (from wsproto>=0.14->trio-websocket~=0.9->selenium>=4.0.0->undetected-chromedriver) (0.14.0)\n"
          ]
        }
      ]
    },
    {
      "cell_type": "code",
      "source": [
        "import pandas as pd\n",
        "import requests\n",
        "import undetected_chromedriver as uc\n",
        "from bs4 import BeautifulSoup\n",
        "\n",
        "#  Hacemos una petición GET a la página que queremos scrapear\n",
        "url = \"http://quotes.toscrape.com/\"\n",
        "response = requests.get(url)\n",
        "\n",
        "# Analizamos el contenido de la página con BeautifulSoup\n",
        "soup = BeautifulSoup(response.content, \"html.parser\")"
      ],
      "metadata": {
        "id": "yI0gRK1M_74C"
      },
      "execution_count": null,
      "outputs": []
    },
    {
      "cell_type": "markdown",
      "source": [
        "### Este es el código de nuestra web con una buena presentación para una fácil lectura."
      ],
      "metadata": {
        "id": "OCwn6mCoAEJA"
      }
    },
    {
      "cell_type": "code",
      "source": [
        "# Buscamos el contenido que necesitamos dentro de nuestro código HTML\n",
        "results = soup.find(class_='container')"
      ],
      "metadata": {
        "id": "w4SZ26MA__8s"
      },
      "execution_count": null,
      "outputs": []
    },
    {
      "cell_type": "code",
      "source": [
        "# Trabajamos sobre la variable que contiene nuestra web y usamos un find_all para obtener un elemento iterable \n",
        "# que contenga todas nuestras citas\n",
        "job_elements = results.find_all('div', class_='quote')"
      ],
      "metadata": {
        "id": "sHjHpBlf__5U"
      },
      "execution_count": null,
      "outputs": []
    },
    {
      "cell_type": "markdown",
      "source": [
        "**En este punto obtenemos la información de cada una de las citas, que son objetos en sí mismos.**"
      ],
      "metadata": {
        "id": "EkdrriIhANtu"
      }
    },
    {
      "cell_type": "code",
      "source": [
        "# Vamos a almacenar los datos de las citas en listas y ver cómo se pueden ver los objetos como texto.\n",
        "text_list = []\n",
        "author_list = []\n",
        "link_list = []\n",
        "keyword = []\n",
        "keyword_list = []\n",
        "\n",
        "for job_element in job_elements:\n",
        "    text_element = job_element.find(\"span\", class_=\"text\")\n",
        "    text_list.append(text_element.text)\n",
        "    author_element = job_element.find(\"small\", class_=\"author\")\n",
        "    author_list.append(author_element.text)\n",
        "    link_element = job_element\n",
        "    link_list.append(\"http://quotes.toscrape.com\"+link_element.find('a')['href'])\n",
        "    keywords_element = job_element.find(\"meta\", class_=\"keywords\")\n",
        "    keyword.append(keywords_element['content'])\n",
        "    \n",
        "    keys = []\n",
        "    keys = keywords_element['content']\n",
        "    keyword_list.append(keys)\n",
        "   \n",
        "    print(text_element.text)\n",
        "    print(author_element.text)\n",
        "    print(link_element.find('a')['href'])\n",
        "    print(keywords_element['content'])\n",
        "    print()"
      ],
      "metadata": {
        "colab": {
          "base_uri": "https://localhost:8080/"
        },
        "id": "mTNAEJbT__1V",
        "outputId": "754cb1db-94df-4d9f-aedc-36bb6d59df27"
      },
      "execution_count": null,
      "outputs": [
        {
          "output_type": "stream",
          "name": "stdout",
          "text": [
            "“The world as we have created it is a process of our thinking. It cannot be changed without changing our thinking.”\n",
            "Albert Einstein\n",
            "/author/Albert-Einstein\n",
            "change,deep-thoughts,thinking,world\n",
            "\n",
            "“It is our choices, Harry, that show what we truly are, far more than our abilities.”\n",
            "J.K. Rowling\n",
            "/author/J-K-Rowling\n",
            "abilities,choices\n",
            "\n",
            "“There are only two ways to live your life. One is as though nothing is a miracle. The other is as though everything is a miracle.”\n",
            "Albert Einstein\n",
            "/author/Albert-Einstein\n",
            "inspirational,life,live,miracle,miracles\n",
            "\n",
            "“The person, be it gentleman or lady, who has not pleasure in a good novel, must be intolerably stupid.”\n",
            "Jane Austen\n",
            "/author/Jane-Austen\n",
            "aliteracy,books,classic,humor\n",
            "\n",
            "“Imperfection is beauty, madness is genius and it's better to be absolutely ridiculous than absolutely boring.”\n",
            "Marilyn Monroe\n",
            "/author/Marilyn-Monroe\n",
            "be-yourself,inspirational\n",
            "\n",
            "“Try not to become a man of success. Rather become a man of value.”\n",
            "Albert Einstein\n",
            "/author/Albert-Einstein\n",
            "adulthood,success,value\n",
            "\n",
            "“It is better to be hated for what you are than to be loved for what you are not.”\n",
            "André Gide\n",
            "/author/Andre-Gide\n",
            "life,love\n",
            "\n",
            "“I have not failed. I've just found 10,000 ways that won't work.”\n",
            "Thomas A. Edison\n",
            "/author/Thomas-A-Edison\n",
            "edison,failure,inspirational,paraphrased\n",
            "\n",
            "“A woman is like a tea bag; you never know how strong it is until it's in hot water.”\n",
            "Eleanor Roosevelt\n",
            "/author/Eleanor-Roosevelt\n",
            "misattributed-eleanor-roosevelt\n",
            "\n",
            "“A day without sunshine is like, you know, night.”\n",
            "Steve Martin\n",
            "/author/Steve-Martin\n",
            "humor,obvious,simile\n",
            "\n"
          ]
        }
      ]
    },
    {
      "cell_type": "code",
      "source": [
        "# definimos una función que nos permita obtener las citas de cualquier página de nuestra web\n",
        "def get_pages(types, kind):\n",
        "    web = f'http://quotes.toscrape.com/{types}/{kind}/'\n",
        "    page = requests.get(web)\n",
        "    soup = BeautifulSoup(page.content, \"html.parser\")\n",
        "    results = soup.find(id='')\n",
        "    job_elements = results.find_all('div', class_='quote')\n",
        "    \n",
        "    text_list = []\n",
        "    author_list = []\n",
        "    link_list = []\n",
        "    keyword = []\n",
        "    \n",
        "    for job_element in job_elements:\n",
        "        text_element = job_element.find(\"span\", class_=\"text\")\n",
        "        text_list.append(text_element.text)\n",
        "        author_element = job_element.find(\"small\", class_=\"author\")\n",
        "        author_list.append(author_element.text)\n",
        "        link_element = job_element\n",
        "        link_list.append(\"http://quotes.toscrape.com\"+link_element.find('a')['href'])\n",
        "        keywords_element = job_element.find(\"meta\", class_=\"keywords\")\n",
        "        keyword.append(keywords_element['content'])\n",
        "\n",
        "    dict_quotes = {'Cita': text_list,'Autor': author_list,'Link Autor': link_list,'Keywords': keyword}\n",
        "\n",
        "    df = pd.DataFrame(dict_quotes)\n",
        "    \n",
        "    return df"
      ],
      "metadata": {
        "id": "pi5Ba7FZAPXT"
      },
      "execution_count": null,
      "outputs": []
    },
    {
      "cell_type": "code",
      "source": [
        "# definimos un dataframe que vaya contatenando los dataframes generados en cada página en la que entremos\n",
        "df_quotes_complete = pd.DataFrame(columns=('Cita','Autor','Link Autor','Keywords'))\n",
        "\n",
        "# recorremos las páginas de nuestra web\n",
        "kinds = list(range(1,11))\n",
        "page = 'page'\n",
        "for kind in kinds:\n",
        "    df_quotes_complete = pd.concat((df_quotes_complete, get_pages(page,kind)), ignore_index=True)\n",
        "\n",
        "df_quotes_complete"
      ],
      "metadata": {
        "colab": {
          "base_uri": "https://localhost:8080/",
          "height": 1000
        },
        "id": "kIZiw4kVAPQ9",
        "outputId": "b8aab813-ea68-4442-fd15-14a5a927f0dd"
      },
      "execution_count": null,
      "outputs": [
        {
          "output_type": "execute_result",
          "data": {
            "text/plain": [
              "                                                 Cita               Autor  \\\n",
              "0   “The world as we have created it is a process ...     Albert Einstein   \n",
              "1   “It is our choices, Harry, that show what we t...        J.K. Rowling   \n",
              "2   “There are only two ways to live your life. On...     Albert Einstein   \n",
              "3   “The person, be it gentleman or lady, who has ...         Jane Austen   \n",
              "4   “Imperfection is beauty, madness is genius and...      Marilyn Monroe   \n",
              "..                                                ...                 ...   \n",
              "95  “You never really understand a person until yo...          Harper Lee   \n",
              "96  “You have to write the book that wants to be w...   Madeleine L'Engle   \n",
              "97  “Never tell the truth to people who are not wo...          Mark Twain   \n",
              "98        “A person's a person, no matter how small.”           Dr. Seuss   \n",
              "99  “... a mind needs books as a sword needs a whe...  George R.R. Martin   \n",
              "\n",
              "                                           Link Autor  \\\n",
              "0   http://quotes.toscrape.com/author/Albert-Einstein   \n",
              "1       http://quotes.toscrape.com/author/J-K-Rowling   \n",
              "2   http://quotes.toscrape.com/author/Albert-Einstein   \n",
              "3       http://quotes.toscrape.com/author/Jane-Austen   \n",
              "4    http://quotes.toscrape.com/author/Marilyn-Monroe   \n",
              "..                                                ...   \n",
              "95       http://quotes.toscrape.com/author/Harper-Lee   \n",
              "96  http://quotes.toscrape.com/author/Madeleine-LE...   \n",
              "97       http://quotes.toscrape.com/author/Mark-Twain   \n",
              "98         http://quotes.toscrape.com/author/Dr-Seuss   \n",
              "99  http://quotes.toscrape.com/author/George-R-R-M...   \n",
              "\n",
              "                                             Keywords  \n",
              "0                 change,deep-thoughts,thinking,world  \n",
              "1                                   abilities,choices  \n",
              "2            inspirational,life,live,miracle,miracles  \n",
              "3                       aliteracy,books,classic,humor  \n",
              "4                           be-yourself,inspirational  \n",
              "..                                                ...  \n",
              "95                                better-life-empathy  \n",
              "96  books,children,difficult,grown-ups,write,write...  \n",
              "97                                              truth  \n",
              "98                                      inspirational  \n",
              "99                                         books,mind  \n",
              "\n",
              "[100 rows x 4 columns]"
            ],
            "text/html": [
              "\n",
              "  <div id=\"df-a49445d3-c357-4318-ae10-2d27fd41f71f\">\n",
              "    <div class=\"colab-df-container\">\n",
              "      <div>\n",
              "<style scoped>\n",
              "    .dataframe tbody tr th:only-of-type {\n",
              "        vertical-align: middle;\n",
              "    }\n",
              "\n",
              "    .dataframe tbody tr th {\n",
              "        vertical-align: top;\n",
              "    }\n",
              "\n",
              "    .dataframe thead th {\n",
              "        text-align: right;\n",
              "    }\n",
              "</style>\n",
              "<table border=\"1\" class=\"dataframe\">\n",
              "  <thead>\n",
              "    <tr style=\"text-align: right;\">\n",
              "      <th></th>\n",
              "      <th>Cita</th>\n",
              "      <th>Autor</th>\n",
              "      <th>Link Autor</th>\n",
              "      <th>Keywords</th>\n",
              "    </tr>\n",
              "  </thead>\n",
              "  <tbody>\n",
              "    <tr>\n",
              "      <th>0</th>\n",
              "      <td>“The world as we have created it is a process ...</td>\n",
              "      <td>Albert Einstein</td>\n",
              "      <td>http://quotes.toscrape.com/author/Albert-Einstein</td>\n",
              "      <td>change,deep-thoughts,thinking,world</td>\n",
              "    </tr>\n",
              "    <tr>\n",
              "      <th>1</th>\n",
              "      <td>“It is our choices, Harry, that show what we t...</td>\n",
              "      <td>J.K. Rowling</td>\n",
              "      <td>http://quotes.toscrape.com/author/J-K-Rowling</td>\n",
              "      <td>abilities,choices</td>\n",
              "    </tr>\n",
              "    <tr>\n",
              "      <th>2</th>\n",
              "      <td>“There are only two ways to live your life. On...</td>\n",
              "      <td>Albert Einstein</td>\n",
              "      <td>http://quotes.toscrape.com/author/Albert-Einstein</td>\n",
              "      <td>inspirational,life,live,miracle,miracles</td>\n",
              "    </tr>\n",
              "    <tr>\n",
              "      <th>3</th>\n",
              "      <td>“The person, be it gentleman or lady, who has ...</td>\n",
              "      <td>Jane Austen</td>\n",
              "      <td>http://quotes.toscrape.com/author/Jane-Austen</td>\n",
              "      <td>aliteracy,books,classic,humor</td>\n",
              "    </tr>\n",
              "    <tr>\n",
              "      <th>4</th>\n",
              "      <td>“Imperfection is beauty, madness is genius and...</td>\n",
              "      <td>Marilyn Monroe</td>\n",
              "      <td>http://quotes.toscrape.com/author/Marilyn-Monroe</td>\n",
              "      <td>be-yourself,inspirational</td>\n",
              "    </tr>\n",
              "    <tr>\n",
              "      <th>...</th>\n",
              "      <td>...</td>\n",
              "      <td>...</td>\n",
              "      <td>...</td>\n",
              "      <td>...</td>\n",
              "    </tr>\n",
              "    <tr>\n",
              "      <th>95</th>\n",
              "      <td>“You never really understand a person until yo...</td>\n",
              "      <td>Harper Lee</td>\n",
              "      <td>http://quotes.toscrape.com/author/Harper-Lee</td>\n",
              "      <td>better-life-empathy</td>\n",
              "    </tr>\n",
              "    <tr>\n",
              "      <th>96</th>\n",
              "      <td>“You have to write the book that wants to be w...</td>\n",
              "      <td>Madeleine L'Engle</td>\n",
              "      <td>http://quotes.toscrape.com/author/Madeleine-LE...</td>\n",
              "      <td>books,children,difficult,grown-ups,write,write...</td>\n",
              "    </tr>\n",
              "    <tr>\n",
              "      <th>97</th>\n",
              "      <td>“Never tell the truth to people who are not wo...</td>\n",
              "      <td>Mark Twain</td>\n",
              "      <td>http://quotes.toscrape.com/author/Mark-Twain</td>\n",
              "      <td>truth</td>\n",
              "    </tr>\n",
              "    <tr>\n",
              "      <th>98</th>\n",
              "      <td>“A person's a person, no matter how small.”</td>\n",
              "      <td>Dr. Seuss</td>\n",
              "      <td>http://quotes.toscrape.com/author/Dr-Seuss</td>\n",
              "      <td>inspirational</td>\n",
              "    </tr>\n",
              "    <tr>\n",
              "      <th>99</th>\n",
              "      <td>“... a mind needs books as a sword needs a whe...</td>\n",
              "      <td>George R.R. Martin</td>\n",
              "      <td>http://quotes.toscrape.com/author/George-R-R-M...</td>\n",
              "      <td>books,mind</td>\n",
              "    </tr>\n",
              "  </tbody>\n",
              "</table>\n",
              "<p>100 rows × 4 columns</p>\n",
              "</div>\n",
              "      <button class=\"colab-df-convert\" onclick=\"convertToInteractive('df-a49445d3-c357-4318-ae10-2d27fd41f71f')\"\n",
              "              title=\"Convert this dataframe to an interactive table.\"\n",
              "              style=\"display:none;\">\n",
              "        \n",
              "  <svg xmlns=\"http://www.w3.org/2000/svg\" height=\"24px\"viewBox=\"0 0 24 24\"\n",
              "       width=\"24px\">\n",
              "    <path d=\"M0 0h24v24H0V0z\" fill=\"none\"/>\n",
              "    <path d=\"M18.56 5.44l.94 2.06.94-2.06 2.06-.94-2.06-.94-.94-2.06-.94 2.06-2.06.94zm-11 1L8.5 8.5l.94-2.06 2.06-.94-2.06-.94L8.5 2.5l-.94 2.06-2.06.94zm10 10l.94 2.06.94-2.06 2.06-.94-2.06-.94-.94-2.06-.94 2.06-2.06.94z\"/><path d=\"M17.41 7.96l-1.37-1.37c-.4-.4-.92-.59-1.43-.59-.52 0-1.04.2-1.43.59L10.3 9.45l-7.72 7.72c-.78.78-.78 2.05 0 2.83L4 21.41c.39.39.9.59 1.41.59.51 0 1.02-.2 1.41-.59l7.78-7.78 2.81-2.81c.8-.78.8-2.07 0-2.86zM5.41 20L4 18.59l7.72-7.72 1.47 1.35L5.41 20z\"/>\n",
              "  </svg>\n",
              "      </button>\n",
              "      \n",
              "  <style>\n",
              "    .colab-df-container {\n",
              "      display:flex;\n",
              "      flex-wrap:wrap;\n",
              "      gap: 12px;\n",
              "    }\n",
              "\n",
              "    .colab-df-convert {\n",
              "      background-color: #E8F0FE;\n",
              "      border: none;\n",
              "      border-radius: 50%;\n",
              "      cursor: pointer;\n",
              "      display: none;\n",
              "      fill: #1967D2;\n",
              "      height: 32px;\n",
              "      padding: 0 0 0 0;\n",
              "      width: 32px;\n",
              "    }\n",
              "\n",
              "    .colab-df-convert:hover {\n",
              "      background-color: #E2EBFA;\n",
              "      box-shadow: 0px 1px 2px rgba(60, 64, 67, 0.3), 0px 1px 3px 1px rgba(60, 64, 67, 0.15);\n",
              "      fill: #174EA6;\n",
              "    }\n",
              "\n",
              "    [theme=dark] .colab-df-convert {\n",
              "      background-color: #3B4455;\n",
              "      fill: #D2E3FC;\n",
              "    }\n",
              "\n",
              "    [theme=dark] .colab-df-convert:hover {\n",
              "      background-color: #434B5C;\n",
              "      box-shadow: 0px 1px 3px 1px rgba(0, 0, 0, 0.15);\n",
              "      filter: drop-shadow(0px 1px 2px rgba(0, 0, 0, 0.3));\n",
              "      fill: #FFFFFF;\n",
              "    }\n",
              "  </style>\n",
              "\n",
              "      <script>\n",
              "        const buttonEl =\n",
              "          document.querySelector('#df-a49445d3-c357-4318-ae10-2d27fd41f71f button.colab-df-convert');\n",
              "        buttonEl.style.display =\n",
              "          google.colab.kernel.accessAllowed ? 'block' : 'none';\n",
              "\n",
              "        async function convertToInteractive(key) {\n",
              "          const element = document.querySelector('#df-a49445d3-c357-4318-ae10-2d27fd41f71f');\n",
              "          const dataTable =\n",
              "            await google.colab.kernel.invokeFunction('convertToInteractive',\n",
              "                                                     [key], {});\n",
              "          if (!dataTable) return;\n",
              "\n",
              "          const docLinkHtml = 'Like what you see? Visit the ' +\n",
              "            '<a target=\"_blank\" href=https://colab.research.google.com/notebooks/data_table.ipynb>data table notebook</a>'\n",
              "            + ' to learn more about interactive tables.';\n",
              "          element.innerHTML = '';\n",
              "          dataTable['output_type'] = 'display_data';\n",
              "          await google.colab.output.renderOutput(dataTable, element);\n",
              "          const docLink = document.createElement('div');\n",
              "          docLink.innerHTML = docLinkHtml;\n",
              "          element.appendChild(docLink);\n",
              "        }\n",
              "      </script>\n",
              "    </div>\n",
              "  </div>\n",
              "  "
            ]
          },
          "metadata": {},
          "execution_count": 7
        }
      ]
    },
    {
      "cell_type": "markdown",
      "source": [
        "# Ahora queremos obtener las citas de la página de la etiqueta \"life\"."
      ],
      "metadata": {
        "id": "gGInQ8AAA1yO"
      }
    },
    {
      "cell_type": "code",
      "source": [
        "tag = 'tag'\n",
        "life = 'life'\n",
        "get_pages(tag, life) # la función nos devuelve un dataframe con las citas de la página \"life\""
      ],
      "metadata": {
        "colab": {
          "base_uri": "https://localhost:8080/",
          "height": 1000
        },
        "id": "W_NnU0xw__QE",
        "outputId": "5993b97c-a5bd-4f30-8506-db52223227a9"
      },
      "execution_count": null,
      "outputs": [
        {
          "output_type": "execute_result",
          "data": {
            "text/plain": [
              "                                                Cita                Autor  \\\n",
              "0  “There are only two ways to live your life. On...      Albert Einstein   \n",
              "1  “It is better to be hated for what you are tha...           André Gide   \n",
              "2  “This life is what you make it. No matter what...       Marilyn Monroe   \n",
              "3  “I may not have gone where I intended to go, b...        Douglas Adams   \n",
              "4  “Good friends, good books, and a sleepy consci...           Mark Twain   \n",
              "5  “Life is what happens to us while we are makin...       Allen Saunders   \n",
              "6  “Today you are You, that is truer than true. T...            Dr. Seuss   \n",
              "7  “Life is like riding a bicycle. To keep your b...      Albert Einstein   \n",
              "8  “Life isn't about finding yourself. Life is ab...  George Bernard Shaw   \n",
              "9  “Finish each day and be done with it. You have...  Ralph Waldo Emerson   \n",
              "\n",
              "                                          Link Autor  \\\n",
              "0  http://quotes.toscrape.com/author/Albert-Einstein   \n",
              "1       http://quotes.toscrape.com/author/Andre-Gide   \n",
              "2   http://quotes.toscrape.com/author/Marilyn-Monroe   \n",
              "3    http://quotes.toscrape.com/author/Douglas-Adams   \n",
              "4       http://quotes.toscrape.com/author/Mark-Twain   \n",
              "5   http://quotes.toscrape.com/author/Allen-Saunders   \n",
              "6         http://quotes.toscrape.com/author/Dr-Seuss   \n",
              "7  http://quotes.toscrape.com/author/Albert-Einstein   \n",
              "8  http://quotes.toscrape.com/author/George-Berna...   \n",
              "9  http://quotes.toscrape.com/author/Ralph-Waldo-...   \n",
              "\n",
              "                                            Keywords  \n",
              "0           inspirational,life,live,miracle,miracles  \n",
              "1                                          life,love  \n",
              "2  friends,heartbreak,inspirational,life,love,sis...  \n",
              "3                                    life,navigation  \n",
              "4          books,contentment,friends,friendship,life  \n",
              "5  fate,life,misattributed-john-lennon,planning,p...  \n",
              "6                               comedy,life,yourself  \n",
              "7                                        life,simile  \n",
              "8                        inspirational,life,yourself  \n",
              "9                                       life,regrets  "
            ],
            "text/html": [
              "\n",
              "  <div id=\"df-657651bc-a984-4a9b-a953-d9296978eecb\">\n",
              "    <div class=\"colab-df-container\">\n",
              "      <div>\n",
              "<style scoped>\n",
              "    .dataframe tbody tr th:only-of-type {\n",
              "        vertical-align: middle;\n",
              "    }\n",
              "\n",
              "    .dataframe tbody tr th {\n",
              "        vertical-align: top;\n",
              "    }\n",
              "\n",
              "    .dataframe thead th {\n",
              "        text-align: right;\n",
              "    }\n",
              "</style>\n",
              "<table border=\"1\" class=\"dataframe\">\n",
              "  <thead>\n",
              "    <tr style=\"text-align: right;\">\n",
              "      <th></th>\n",
              "      <th>Cita</th>\n",
              "      <th>Autor</th>\n",
              "      <th>Link Autor</th>\n",
              "      <th>Keywords</th>\n",
              "    </tr>\n",
              "  </thead>\n",
              "  <tbody>\n",
              "    <tr>\n",
              "      <th>0</th>\n",
              "      <td>“There are only two ways to live your life. On...</td>\n",
              "      <td>Albert Einstein</td>\n",
              "      <td>http://quotes.toscrape.com/author/Albert-Einstein</td>\n",
              "      <td>inspirational,life,live,miracle,miracles</td>\n",
              "    </tr>\n",
              "    <tr>\n",
              "      <th>1</th>\n",
              "      <td>“It is better to be hated for what you are tha...</td>\n",
              "      <td>André Gide</td>\n",
              "      <td>http://quotes.toscrape.com/author/Andre-Gide</td>\n",
              "      <td>life,love</td>\n",
              "    </tr>\n",
              "    <tr>\n",
              "      <th>2</th>\n",
              "      <td>“This life is what you make it. No matter what...</td>\n",
              "      <td>Marilyn Monroe</td>\n",
              "      <td>http://quotes.toscrape.com/author/Marilyn-Monroe</td>\n",
              "      <td>friends,heartbreak,inspirational,life,love,sis...</td>\n",
              "    </tr>\n",
              "    <tr>\n",
              "      <th>3</th>\n",
              "      <td>“I may not have gone where I intended to go, b...</td>\n",
              "      <td>Douglas Adams</td>\n",
              "      <td>http://quotes.toscrape.com/author/Douglas-Adams</td>\n",
              "      <td>life,navigation</td>\n",
              "    </tr>\n",
              "    <tr>\n",
              "      <th>4</th>\n",
              "      <td>“Good friends, good books, and a sleepy consci...</td>\n",
              "      <td>Mark Twain</td>\n",
              "      <td>http://quotes.toscrape.com/author/Mark-Twain</td>\n",
              "      <td>books,contentment,friends,friendship,life</td>\n",
              "    </tr>\n",
              "    <tr>\n",
              "      <th>5</th>\n",
              "      <td>“Life is what happens to us while we are makin...</td>\n",
              "      <td>Allen Saunders</td>\n",
              "      <td>http://quotes.toscrape.com/author/Allen-Saunders</td>\n",
              "      <td>fate,life,misattributed-john-lennon,planning,p...</td>\n",
              "    </tr>\n",
              "    <tr>\n",
              "      <th>6</th>\n",
              "      <td>“Today you are You, that is truer than true. T...</td>\n",
              "      <td>Dr. Seuss</td>\n",
              "      <td>http://quotes.toscrape.com/author/Dr-Seuss</td>\n",
              "      <td>comedy,life,yourself</td>\n",
              "    </tr>\n",
              "    <tr>\n",
              "      <th>7</th>\n",
              "      <td>“Life is like riding a bicycle. To keep your b...</td>\n",
              "      <td>Albert Einstein</td>\n",
              "      <td>http://quotes.toscrape.com/author/Albert-Einstein</td>\n",
              "      <td>life,simile</td>\n",
              "    </tr>\n",
              "    <tr>\n",
              "      <th>8</th>\n",
              "      <td>“Life isn't about finding yourself. Life is ab...</td>\n",
              "      <td>George Bernard Shaw</td>\n",
              "      <td>http://quotes.toscrape.com/author/George-Berna...</td>\n",
              "      <td>inspirational,life,yourself</td>\n",
              "    </tr>\n",
              "    <tr>\n",
              "      <th>9</th>\n",
              "      <td>“Finish each day and be done with it. You have...</td>\n",
              "      <td>Ralph Waldo Emerson</td>\n",
              "      <td>http://quotes.toscrape.com/author/Ralph-Waldo-...</td>\n",
              "      <td>life,regrets</td>\n",
              "    </tr>\n",
              "  </tbody>\n",
              "</table>\n",
              "</div>\n",
              "      <button class=\"colab-df-convert\" onclick=\"convertToInteractive('df-657651bc-a984-4a9b-a953-d9296978eecb')\"\n",
              "              title=\"Convert this dataframe to an interactive table.\"\n",
              "              style=\"display:none;\">\n",
              "        \n",
              "  <svg xmlns=\"http://www.w3.org/2000/svg\" height=\"24px\"viewBox=\"0 0 24 24\"\n",
              "       width=\"24px\">\n",
              "    <path d=\"M0 0h24v24H0V0z\" fill=\"none\"/>\n",
              "    <path d=\"M18.56 5.44l.94 2.06.94-2.06 2.06-.94-2.06-.94-.94-2.06-.94 2.06-2.06.94zm-11 1L8.5 8.5l.94-2.06 2.06-.94-2.06-.94L8.5 2.5l-.94 2.06-2.06.94zm10 10l.94 2.06.94-2.06 2.06-.94-2.06-.94-.94-2.06-.94 2.06-2.06.94z\"/><path d=\"M17.41 7.96l-1.37-1.37c-.4-.4-.92-.59-1.43-.59-.52 0-1.04.2-1.43.59L10.3 9.45l-7.72 7.72c-.78.78-.78 2.05 0 2.83L4 21.41c.39.39.9.59 1.41.59.51 0 1.02-.2 1.41-.59l7.78-7.78 2.81-2.81c.8-.78.8-2.07 0-2.86zM5.41 20L4 18.59l7.72-7.72 1.47 1.35L5.41 20z\"/>\n",
              "  </svg>\n",
              "      </button>\n",
              "      \n",
              "  <style>\n",
              "    .colab-df-container {\n",
              "      display:flex;\n",
              "      flex-wrap:wrap;\n",
              "      gap: 12px;\n",
              "    }\n",
              "\n",
              "    .colab-df-convert {\n",
              "      background-color: #E8F0FE;\n",
              "      border: none;\n",
              "      border-radius: 50%;\n",
              "      cursor: pointer;\n",
              "      display: none;\n",
              "      fill: #1967D2;\n",
              "      height: 32px;\n",
              "      padding: 0 0 0 0;\n",
              "      width: 32px;\n",
              "    }\n",
              "\n",
              "    .colab-df-convert:hover {\n",
              "      background-color: #E2EBFA;\n",
              "      box-shadow: 0px 1px 2px rgba(60, 64, 67, 0.3), 0px 1px 3px 1px rgba(60, 64, 67, 0.15);\n",
              "      fill: #174EA6;\n",
              "    }\n",
              "\n",
              "    [theme=dark] .colab-df-convert {\n",
              "      background-color: #3B4455;\n",
              "      fill: #D2E3FC;\n",
              "    }\n",
              "\n",
              "    [theme=dark] .colab-df-convert:hover {\n",
              "      background-color: #434B5C;\n",
              "      box-shadow: 0px 1px 3px 1px rgba(0, 0, 0, 0.15);\n",
              "      filter: drop-shadow(0px 1px 2px rgba(0, 0, 0, 0.3));\n",
              "      fill: #FFFFFF;\n",
              "    }\n",
              "  </style>\n",
              "\n",
              "      <script>\n",
              "        const buttonEl =\n",
              "          document.querySelector('#df-657651bc-a984-4a9b-a953-d9296978eecb button.colab-df-convert');\n",
              "        buttonEl.style.display =\n",
              "          google.colab.kernel.accessAllowed ? 'block' : 'none';\n",
              "\n",
              "        async function convertToInteractive(key) {\n",
              "          const element = document.querySelector('#df-657651bc-a984-4a9b-a953-d9296978eecb');\n",
              "          const dataTable =\n",
              "            await google.colab.kernel.invokeFunction('convertToInteractive',\n",
              "                                                     [key], {});\n",
              "          if (!dataTable) return;\n",
              "\n",
              "          const docLinkHtml = 'Like what you see? Visit the ' +\n",
              "            '<a target=\"_blank\" href=https://colab.research.google.com/notebooks/data_table.ipynb>data table notebook</a>'\n",
              "            + ' to learn more about interactive tables.';\n",
              "          element.innerHTML = '';\n",
              "          dataTable['output_type'] = 'display_data';\n",
              "          await google.colab.output.renderOutput(dataTable, element);\n",
              "          const docLink = document.createElement('div');\n",
              "          docLink.innerHTML = docLinkHtml;\n",
              "          element.appendChild(docLink);\n",
              "        }\n",
              "      </script>\n",
              "    </div>\n",
              "  </div>\n",
              "  "
            ]
          },
          "metadata": {},
          "execution_count": 8
        }
      ]
    },
    {
      "cell_type": "markdown",
      "source": [
        "# **Web Scraping con Selenium.**\n",
        "\n",
        "### Instalación y configuración de Selenium"
      ],
      "metadata": {
        "id": "sTcBIxa7BMzy"
      }
    },
    {
      "cell_type": "code",
      "execution_count": null,
      "metadata": {
        "colab": {
          "base_uri": "https://localhost:8080/"
        },
        "id": "WqQDwBMpK5Z9",
        "outputId": "534a825a-a8a2-4e92-e06a-3f328c452718"
      },
      "outputs": [
        {
          "output_type": "stream",
          "name": "stdout",
          "text": [
            "Looking in indexes: https://pypi.org/simple, https://us-python.pkg.dev/colab-wheels/public/simple/\n",
            "Requirement already satisfied: selenium in /usr/local/lib/python3.9/dist-packages (4.8.3)\n",
            "Requirement already satisfied: trio~=0.17 in /usr/local/lib/python3.9/dist-packages (from selenium) (0.22.0)\n",
            "Requirement already satisfied: trio-websocket~=0.9 in /usr/local/lib/python3.9/dist-packages (from selenium) (0.10.2)\n",
            "Requirement already satisfied: urllib3[socks]~=1.26 in /usr/local/lib/python3.9/dist-packages (from selenium) (1.26.15)\n",
            "Requirement already satisfied: certifi>=2021.10.8 in /usr/local/lib/python3.9/dist-packages (from selenium) (2022.12.7)\n",
            "Requirement already satisfied: exceptiongroup>=1.0.0rc9 in /usr/local/lib/python3.9/dist-packages (from trio~=0.17->selenium) (1.1.1)\n",
            "Requirement already satisfied: idna in /usr/local/lib/python3.9/dist-packages (from trio~=0.17->selenium) (3.4)\n",
            "Requirement already satisfied: outcome in /usr/local/lib/python3.9/dist-packages (from trio~=0.17->selenium) (1.2.0)\n",
            "Requirement already satisfied: attrs>=19.2.0 in /usr/local/lib/python3.9/dist-packages (from trio~=0.17->selenium) (22.2.0)\n",
            "Requirement already satisfied: sortedcontainers in /usr/local/lib/python3.9/dist-packages (from trio~=0.17->selenium) (2.4.0)\n",
            "Requirement already satisfied: async-generator>=1.9 in /usr/local/lib/python3.9/dist-packages (from trio~=0.17->selenium) (1.10)\n",
            "Requirement already satisfied: sniffio in /usr/local/lib/python3.9/dist-packages (from trio~=0.17->selenium) (1.3.0)\n",
            "Requirement already satisfied: wsproto>=0.14 in /usr/local/lib/python3.9/dist-packages (from trio-websocket~=0.9->selenium) (1.2.0)\n",
            "Requirement already satisfied: PySocks!=1.5.7,<2.0,>=1.5.6 in /usr/local/lib/python3.9/dist-packages (from urllib3[socks]~=1.26->selenium) (1.7.1)\n",
            "Requirement already satisfied: h11<1,>=0.9.0 in /usr/local/lib/python3.9/dist-packages (from wsproto>=0.14->trio-websocket~=0.9->selenium) (0.14.0)\n"
          ]
        }
      ],
      "source": [
        "!pip install selenium"
      ]
    },
    {
      "cell_type": "code",
      "source": [
        "%%shell\n",
        "\n",
        "# Add debian buster\n",
        "cat > /etc/apt/sources.list.d/debian.list <<'EOF'\n",
        "deb [arch=amd64 signed-by=/usr/share/keyrings/debian-buster.gpg] http://deb.debian.org/debian buster main\n",
        "deb [arch=amd64 signed-by=/usr/share/keyrings/debian-buster-updates.gpg] http://deb.debian.org/debian buster-updates main\n",
        "deb [arch=amd64 signed-by=/usr/share/keyrings/debian-security-buster.gpg] http://deb.debian.org/debian-security buster/updates main\n",
        "EOF\n",
        "\n",
        "# Add keys\n",
        "apt-key adv --keyserver keyserver.ubuntu.com --recv-keys DCC9EFBF77E11517\n",
        "apt-key adv --keyserver keyserver.ubuntu.com --recv-keys 648ACFD622F3D138\n",
        "apt-key adv --keyserver keyserver.ubuntu.com --recv-keys 112695A0E562B32A\n",
        "\n",
        "apt-key export 77E11517 | gpg --dearmour -o /usr/share/keyrings/debian-buster.gpg\n",
        "apt-key export 22F3D138 | gpg --dearmour -o /usr/share/keyrings/debian-buster-updates.gpg\n",
        "apt-key export E562B32A | gpg --dearmour -o /usr/share/keyrings/debian-security-buster.gpg\n",
        "\n",
        "# Prefer debian repo for chromium* packages only\n",
        "# Note the double-blank lines between entries\n",
        "cat > /etc/apt/preferences.d/chromium.pref << 'EOF'\n",
        "Package: *\n",
        "Pin: release a=eoan\n",
        "Pin-Priority: 500\n",
        "\n",
        "\n",
        "Package: *\n",
        "Pin: origin \"deb.debian.org\"\n",
        "Pin-Priority: 300\n",
        "\n",
        "\n",
        "Package: chromium*\n",
        "Pin: origin \"deb.debian.org\"\n",
        "Pin-Priority: 700\n",
        "EOF"
      ],
      "metadata": {
        "colab": {
          "base_uri": "https://localhost:8080/"
        },
        "id": "UWl7-KH0LCv2",
        "outputId": "dc171370-9333-48b9-b276-1dc8fae216d8"
      },
      "execution_count": null,
      "outputs": [
        {
          "output_type": "stream",
          "name": "stdout",
          "text": [
            "Executing: /tmp/apt-key-gpghome.u7ebY3q8G6/gpg.1.sh --keyserver keyserver.ubuntu.com --recv-keys DCC9EFBF77E11517\n",
            "gpg: key DCC9EFBF77E11517: \"Debian Stable Release Key (10/buster) <debian-release@lists.debian.org>\" not changed\n",
            "gpg: Total number processed: 1\n",
            "gpg:              unchanged: 1\n",
            "Executing: /tmp/apt-key-gpghome.Lq35otfHah/gpg.1.sh --keyserver keyserver.ubuntu.com --recv-keys 648ACFD622F3D138\n",
            "gpg: key DC30D7C23CBBABEE: \"Debian Archive Automatic Signing Key (10/buster) <ftpmaster@debian.org>\" not changed\n",
            "gpg: Total number processed: 1\n",
            "gpg:              unchanged: 1\n",
            "Executing: /tmp/apt-key-gpghome.grZsTdpvDs/gpg.1.sh --keyserver keyserver.ubuntu.com --recv-keys 112695A0E562B32A\n",
            "gpg: key 4DFAB270CAA96DFA: \"Debian Security Archive Automatic Signing Key (10/buster) <ftpmaster@debian.org>\" not changed\n",
            "gpg: Total number processed: 1\n",
            "gpg:              unchanged: 1\n",
            "gpg: cannot open '/dev/tty': No such device or address\n",
            "Warning: apt-key output should not be parsed (stdout is not a terminal)\n",
            "gpg: [stdout]: write error: Broken pipe\n",
            "gpg: filter_flush failed on close: Broken pipe\n",
            "gpg: cannot open '/dev/tty': No such device or address\n",
            "Warning: apt-key output should not be parsed (stdout is not a terminal)\n",
            "gpg: [stdout]: write error: Broken pipe\n",
            "gpg: filter_flush failed on close: Broken pipe\n",
            "gpg: cannot open '/dev/tty': No such device or address\n",
            "Warning: apt-key output should not be parsed (stdout is not a terminal)\n",
            "gpg: [stdout]: write error: Broken pipe\n",
            "gpg: filter_flush failed on close: Broken pipe\n"
          ]
        },
        {
          "output_type": "execute_result",
          "data": {
            "text/plain": []
          },
          "metadata": {},
          "execution_count": 10
        }
      ]
    },
    {
      "cell_type": "code",
      "source": [
        "# Instale el navegador y el controlador de cromo\n",
        "!apt-get update\n",
        "!apt-get install chromium chromium-driver"
      ],
      "metadata": {
        "colab": {
          "base_uri": "https://localhost:8080/"
        },
        "id": "vXpIbxAGLI9u",
        "outputId": "28a47b81-b8a4-485f-9ffa-dd109f902224"
      },
      "execution_count": null,
      "outputs": [
        {
          "output_type": "stream",
          "name": "stdout",
          "text": [
            "\r0% [Working]\r            \rHit:1 http://deb.debian.org/debian buster InRelease\n",
            "\r0% [Connecting to archive.ubuntu.com (185.125.190.36)] [Connecting to security.\r                                                                               \rHit:2 http://deb.debian.org/debian buster-updates InRelease\n",
            "\r0% [Connecting to archive.ubuntu.com (185.125.190.36)] [Connecting to security.\r                                                                               \rHit:3 http://deb.debian.org/debian-security buster/updates InRelease\n",
            "\r0% [Connecting to archive.ubuntu.com (185.125.190.36)] [Connecting to security.\r                                                                               \rHit:4 https://cloud.r-project.org/bin/linux/ubuntu focal-cran40/ InRelease\n",
            "\r0% [Connecting to archive.ubuntu.com (185.125.190.36)] [Waiting for headers] [C\r                                                                               \rHit:5 https://developer.download.nvidia.com/compute/cuda/repos/ubuntu2004/x86_64  InRelease\n",
            "\r0% [Connecting to archive.ubuntu.com (185.125.190.36)] [Waiting for headers] [C\r0% [Connecting to archive.ubuntu.com (185.125.190.36)] [Waiting for headers] [C\r                                                                               \rGet:6 http://security.ubuntu.com/ubuntu focal-security InRelease [114 kB]\n",
            "Hit:7 http://archive.ubuntu.com/ubuntu focal InRelease\n",
            "Hit:8 http://ppa.launchpad.net/c2d4u.team/c2d4u4.0+/ubuntu focal InRelease\n",
            "Hit:9 http://archive.ubuntu.com/ubuntu focal-updates InRelease\n",
            "Get:10 http://archive.ubuntu.com/ubuntu focal-backports InRelease [108 kB]\n",
            "Hit:11 http://ppa.launchpad.net/cran/libgit2/ubuntu focal InRelease\n",
            "Hit:12 http://ppa.launchpad.net/deadsnakes/ppa/ubuntu focal InRelease\n",
            "Hit:13 http://ppa.launchpad.net/graphics-drivers/ppa/ubuntu focal InRelease\n",
            "Hit:14 http://ppa.launchpad.net/ubuntugis/ppa/ubuntu focal InRelease\n",
            "Fetched 222 kB in 2s (134 kB/s)\n",
            "Reading package lists... Done\n",
            "Reading package lists... Done\n",
            "Building dependency tree       \n",
            "Reading state information... Done\n",
            "chromium is already the newest version (90.0.4430.212-1~deb10u1).\n",
            "chromium-driver is already the newest version (90.0.4430.212-1~deb10u1).\n",
            "0 upgraded, 0 newly installed, 0 to remove and 23 not upgraded.\n"
          ]
        }
      ]
    },
    {
      "cell_type": "code",
      "source": [
        "from selenium import webdriver\n",
        "from selenium.webdriver.common.by import By\n",
        "import time"
      ],
      "metadata": {
        "id": "MaxW_ph0LTVN"
      },
      "execution_count": null,
      "outputs": []
    },
    {
      "cell_type": "code",
      "source": [
        "def web_driver():\n",
        "    options = webdriver.ChromeOptions()\n",
        "    options.add_argument(\"--verbose\")\n",
        "    options.add_argument('--no-sandbox')\n",
        "    options.add_argument('--headless')\n",
        "    options.add_argument('--disable-gpu')\n",
        "    options.add_argument(\"--window-size=1920, 1200\")\n",
        "    options.add_argument('--disable-dev-shm-usage')\n",
        "    driver = webdriver.Chrome(options=options)\n",
        "    return driver"
      ],
      "metadata": {
        "id": "bOZ8266aLXof"
      },
      "execution_count": null,
      "outputs": []
    },
    {
      "cell_type": "code",
      "source": [
        "# abrimos el navegador\n",
        "\n",
        "browser= web_driver()\n",
        "\n",
        " # contactamos con la web\n",
        "browser.get('http://quotes.toscrape.com')"
      ],
      "metadata": {
        "id": "XvfM83jALasp"
      },
      "execution_count": null,
      "outputs": []
    },
    {
      "cell_type": "code",
      "source": [
        " # leemos el contenido\n",
        " results  = browser.find_element(By.CLASS_NAME, 'container')\n",
        " print(results.text)"
      ],
      "metadata": {
        "id": "FPK97tA3VC48",
        "colab": {
          "base_uri": "https://localhost:8080/"
        },
        "outputId": "d5ce93bd-b675-4fd1-e3c1-f24c45344586"
      },
      "execution_count": null,
      "outputs": [
        {
          "output_type": "stream",
          "name": "stdout",
          "text": [
            "Quotes to Scrape\n",
            "Login\n",
            "“The world as we have created it is a process of our thinking. It cannot be changed without changing our thinking.”\n",
            "by Albert Einstein (about)\n",
            "Tags: change deep-thoughts thinking world\n",
            "“It is our choices, Harry, that show what we truly are, far more than our abilities.”\n",
            "by J.K. Rowling (about)\n",
            "Tags: abilities choices\n",
            "“There are only two ways to live your life. One is as though nothing is a miracle. The other is as though everything is a miracle.”\n",
            "by Albert Einstein (about)\n",
            "Tags: inspirational life live miracle miracles\n",
            "“The person, be it gentleman or lady, who has not pleasure in a good novel, must be intolerably stupid.”\n",
            "by Jane Austen (about)\n",
            "Tags: aliteracy books classic humor\n",
            "“Imperfection is beauty, madness is genius and it's better to be absolutely ridiculous than absolutely boring.”\n",
            "by Marilyn Monroe (about)\n",
            "Tags: be-yourself inspirational\n",
            "“Try not to become a man of success. Rather become a man of value.”\n",
            "by Albert Einstein (about)\n",
            "Tags: adulthood success value\n",
            "“It is better to be hated for what you are than to be loved for what you are not.”\n",
            "by André Gide (about)\n",
            "Tags: life love\n",
            "“I have not failed. I've just found 10,000 ways that won't work.”\n",
            "by Thomas A. Edison (about)\n",
            "Tags: edison failure inspirational paraphrased\n",
            "“A woman is like a tea bag; you never know how strong it is until it's in hot water.”\n",
            "by Eleanor Roosevelt (about)\n",
            "Tags: misattributed-eleanor-roosevelt\n",
            "“A day without sunshine is like, you know, night.”\n",
            "by Steve Martin (about)\n",
            "Tags: humor obvious simile\n",
            "Next →\n",
            "Top Ten tags\n",
            "love\n",
            "inspirational\n",
            "life\n",
            "humor\n",
            "books\n",
            "reading\n",
            "friendship\n",
            "friends\n",
            "truth\n",
            "simile\n"
          ]
        }
      ]
    },
    {
      "cell_type": "code",
      "source": [
        "# localizamos el elemento con contiene cada cita\n",
        "message = browser.find_element(by=By.XPATH, value=\"/html/body/div/div[2]/div[1]/div[1]\")  "
      ],
      "metadata": {
        "id": "NaQKb7aGxiOZ"
      },
      "execution_count": null,
      "outputs": []
    },
    {
      "cell_type": "code",
      "source": [
        "# navegamos por la toda web para obtener todas las citas\n",
        "cita_list = []\n",
        "autor_list = []\n",
        "tags_list = []\n",
        "\n",
        "cortar = 1\n",
        "while cortar < 11:\n",
        "    i=1\n",
        "    while i<11:\n",
        "        message = browser.find_element(by=By.XPATH, value=(\"/html/body/div/div[2]/div[1]/div[{}]\").format(i))\n",
        "        cita_list.append((message.find_element(by=By.CLASS_NAME, value=\"text\").text))\n",
        "        autor_list.append((message.find_element(by=By.CLASS_NAME, value=\"author\").text))\n",
        "        tags = message.find_element(by=By.CLASS_NAME, value=\"tags\")\n",
        "        tags_list.append(str(tags.text)[6:])\n",
        "        i+=1\n",
        "    \n",
        "    # boton para cargar más items\n",
        "    time.sleep(3)\n",
        "    if cortar == 1:\n",
        "        browser.find_element(by=By.XPATH, value='/html/body/div/div[2]/div[1]/nav/ul/li/a').click()\n",
        "        \n",
        "    elif cortar <10:\n",
        "        browser.find_element(by=By.XPATH, value='/html/body/div/div[2]/div[1]/nav/ul/li[2]/a').click() \n",
        "                                                \n",
        "    cortar+=1 "
      ],
      "metadata": {
        "id": "FqZXn2H27pOu"
      },
      "execution_count": null,
      "outputs": []
    },
    {
      "cell_type": "code",
      "source": [
        "# hacemos un dataframe con toda la información de la web\n",
        "dict_quotes_Sel_web = {'Cita': cita_list,'Autor': autor_list, 'Keywords': tags_list}\n",
        "\n",
        "dict_quotes_Sel_web = pd.DataFrame(dict_quotes_Sel_web)\n",
        "dict_quotes_Sel_web"
      ],
      "metadata": {
        "colab": {
          "base_uri": "https://localhost:8080/",
          "height": 641
        },
        "id": "bKE3y_5C7pLe",
        "outputId": "7a4c78ce-195e-4a9f-dbb1-9075e4c92ac9"
      },
      "execution_count": null,
      "outputs": [
        {
          "output_type": "execute_result",
          "data": {
            "text/plain": [
              "                                                 Cita               Autor  \\\n",
              "0   “The world as we have created it is a process ...     Albert Einstein   \n",
              "1   “It is our choices, Harry, that show what we t...        J.K. Rowling   \n",
              "2   “There are only two ways to live your life. On...     Albert Einstein   \n",
              "3   “The person, be it gentleman or lady, who has ...         Jane Austen   \n",
              "4   “Imperfection is beauty, madness is genius and...      Marilyn Monroe   \n",
              "..                                                ...                 ...   \n",
              "95  “You never really understand a person until yo...          Harper Lee   \n",
              "96  “You have to write the book that wants to be w...   Madeleine L'Engle   \n",
              "97  “Never tell the truth to people who are not wo...          Mark Twain   \n",
              "98        “A person's a person, no matter how small.”           Dr. Seuss   \n",
              "99  “... a mind needs books as a sword needs a whe...  George R.R. Martin   \n",
              "\n",
              "                                             Keywords  \n",
              "0                 change deep-thoughts thinking world  \n",
              "1                                   abilities choices  \n",
              "2            inspirational life live miracle miracles  \n",
              "3                       aliteracy books classic humor  \n",
              "4                           be-yourself inspirational  \n",
              "..                                                ...  \n",
              "95                                better-life-empathy  \n",
              "96  books children difficult grown-ups write write...  \n",
              "97                                              truth  \n",
              "98                                      inspirational  \n",
              "99                                         books mind  \n",
              "\n",
              "[100 rows x 3 columns]"
            ],
            "text/html": [
              "\n",
              "  <div id=\"df-25989461-01f8-4069-b208-3cb62faaf6e3\">\n",
              "    <div class=\"colab-df-container\">\n",
              "      <div>\n",
              "<style scoped>\n",
              "    .dataframe tbody tr th:only-of-type {\n",
              "        vertical-align: middle;\n",
              "    }\n",
              "\n",
              "    .dataframe tbody tr th {\n",
              "        vertical-align: top;\n",
              "    }\n",
              "\n",
              "    .dataframe thead th {\n",
              "        text-align: right;\n",
              "    }\n",
              "</style>\n",
              "<table border=\"1\" class=\"dataframe\">\n",
              "  <thead>\n",
              "    <tr style=\"text-align: right;\">\n",
              "      <th></th>\n",
              "      <th>Cita</th>\n",
              "      <th>Autor</th>\n",
              "      <th>Keywords</th>\n",
              "    </tr>\n",
              "  </thead>\n",
              "  <tbody>\n",
              "    <tr>\n",
              "      <th>0</th>\n",
              "      <td>“The world as we have created it is a process ...</td>\n",
              "      <td>Albert Einstein</td>\n",
              "      <td>change deep-thoughts thinking world</td>\n",
              "    </tr>\n",
              "    <tr>\n",
              "      <th>1</th>\n",
              "      <td>“It is our choices, Harry, that show what we t...</td>\n",
              "      <td>J.K. Rowling</td>\n",
              "      <td>abilities choices</td>\n",
              "    </tr>\n",
              "    <tr>\n",
              "      <th>2</th>\n",
              "      <td>“There are only two ways to live your life. On...</td>\n",
              "      <td>Albert Einstein</td>\n",
              "      <td>inspirational life live miracle miracles</td>\n",
              "    </tr>\n",
              "    <tr>\n",
              "      <th>3</th>\n",
              "      <td>“The person, be it gentleman or lady, who has ...</td>\n",
              "      <td>Jane Austen</td>\n",
              "      <td>aliteracy books classic humor</td>\n",
              "    </tr>\n",
              "    <tr>\n",
              "      <th>4</th>\n",
              "      <td>“Imperfection is beauty, madness is genius and...</td>\n",
              "      <td>Marilyn Monroe</td>\n",
              "      <td>be-yourself inspirational</td>\n",
              "    </tr>\n",
              "    <tr>\n",
              "      <th>...</th>\n",
              "      <td>...</td>\n",
              "      <td>...</td>\n",
              "      <td>...</td>\n",
              "    </tr>\n",
              "    <tr>\n",
              "      <th>95</th>\n",
              "      <td>“You never really understand a person until yo...</td>\n",
              "      <td>Harper Lee</td>\n",
              "      <td>better-life-empathy</td>\n",
              "    </tr>\n",
              "    <tr>\n",
              "      <th>96</th>\n",
              "      <td>“You have to write the book that wants to be w...</td>\n",
              "      <td>Madeleine L'Engle</td>\n",
              "      <td>books children difficult grown-ups write write...</td>\n",
              "    </tr>\n",
              "    <tr>\n",
              "      <th>97</th>\n",
              "      <td>“Never tell the truth to people who are not wo...</td>\n",
              "      <td>Mark Twain</td>\n",
              "      <td>truth</td>\n",
              "    </tr>\n",
              "    <tr>\n",
              "      <th>98</th>\n",
              "      <td>“A person's a person, no matter how small.”</td>\n",
              "      <td>Dr. Seuss</td>\n",
              "      <td>inspirational</td>\n",
              "    </tr>\n",
              "    <tr>\n",
              "      <th>99</th>\n",
              "      <td>“... a mind needs books as a sword needs a whe...</td>\n",
              "      <td>George R.R. Martin</td>\n",
              "      <td>books mind</td>\n",
              "    </tr>\n",
              "  </tbody>\n",
              "</table>\n",
              "<p>100 rows × 3 columns</p>\n",
              "</div>\n",
              "      <button class=\"colab-df-convert\" onclick=\"convertToInteractive('df-25989461-01f8-4069-b208-3cb62faaf6e3')\"\n",
              "              title=\"Convert this dataframe to an interactive table.\"\n",
              "              style=\"display:none;\">\n",
              "        \n",
              "  <svg xmlns=\"http://www.w3.org/2000/svg\" height=\"24px\"viewBox=\"0 0 24 24\"\n",
              "       width=\"24px\">\n",
              "    <path d=\"M0 0h24v24H0V0z\" fill=\"none\"/>\n",
              "    <path d=\"M18.56 5.44l.94 2.06.94-2.06 2.06-.94-2.06-.94-.94-2.06-.94 2.06-2.06.94zm-11 1L8.5 8.5l.94-2.06 2.06-.94-2.06-.94L8.5 2.5l-.94 2.06-2.06.94zm10 10l.94 2.06.94-2.06 2.06-.94-2.06-.94-.94-2.06-.94 2.06-2.06.94z\"/><path d=\"M17.41 7.96l-1.37-1.37c-.4-.4-.92-.59-1.43-.59-.52 0-1.04.2-1.43.59L10.3 9.45l-7.72 7.72c-.78.78-.78 2.05 0 2.83L4 21.41c.39.39.9.59 1.41.59.51 0 1.02-.2 1.41-.59l7.78-7.78 2.81-2.81c.8-.78.8-2.07 0-2.86zM5.41 20L4 18.59l7.72-7.72 1.47 1.35L5.41 20z\"/>\n",
              "  </svg>\n",
              "      </button>\n",
              "      \n",
              "  <style>\n",
              "    .colab-df-container {\n",
              "      display:flex;\n",
              "      flex-wrap:wrap;\n",
              "      gap: 12px;\n",
              "    }\n",
              "\n",
              "    .colab-df-convert {\n",
              "      background-color: #E8F0FE;\n",
              "      border: none;\n",
              "      border-radius: 50%;\n",
              "      cursor: pointer;\n",
              "      display: none;\n",
              "      fill: #1967D2;\n",
              "      height: 32px;\n",
              "      padding: 0 0 0 0;\n",
              "      width: 32px;\n",
              "    }\n",
              "\n",
              "    .colab-df-convert:hover {\n",
              "      background-color: #E2EBFA;\n",
              "      box-shadow: 0px 1px 2px rgba(60, 64, 67, 0.3), 0px 1px 3px 1px rgba(60, 64, 67, 0.15);\n",
              "      fill: #174EA6;\n",
              "    }\n",
              "\n",
              "    [theme=dark] .colab-df-convert {\n",
              "      background-color: #3B4455;\n",
              "      fill: #D2E3FC;\n",
              "    }\n",
              "\n",
              "    [theme=dark] .colab-df-convert:hover {\n",
              "      background-color: #434B5C;\n",
              "      box-shadow: 0px 1px 3px 1px rgba(0, 0, 0, 0.15);\n",
              "      filter: drop-shadow(0px 1px 2px rgba(0, 0, 0, 0.3));\n",
              "      fill: #FFFFFF;\n",
              "    }\n",
              "  </style>\n",
              "\n",
              "      <script>\n",
              "        const buttonEl =\n",
              "          document.querySelector('#df-25989461-01f8-4069-b208-3cb62faaf6e3 button.colab-df-convert');\n",
              "        buttonEl.style.display =\n",
              "          google.colab.kernel.accessAllowed ? 'block' : 'none';\n",
              "\n",
              "        async function convertToInteractive(key) {\n",
              "          const element = document.querySelector('#df-25989461-01f8-4069-b208-3cb62faaf6e3');\n",
              "          const dataTable =\n",
              "            await google.colab.kernel.invokeFunction('convertToInteractive',\n",
              "                                                     [key], {});\n",
              "          if (!dataTable) return;\n",
              "\n",
              "          const docLinkHtml = 'Like what you see? Visit the ' +\n",
              "            '<a target=\"_blank\" href=https://colab.research.google.com/notebooks/data_table.ipynb>data table notebook</a>'\n",
              "            + ' to learn more about interactive tables.';\n",
              "          element.innerHTML = '';\n",
              "          dataTable['output_type'] = 'display_data';\n",
              "          await google.colab.output.renderOutput(dataTable, element);\n",
              "          const docLink = document.createElement('div');\n",
              "          docLink.innerHTML = docLinkHtml;\n",
              "          element.appendChild(docLink);\n",
              "        }\n",
              "      </script>\n",
              "    </div>\n",
              "  </div>\n",
              "  "
            ]
          },
          "metadata": {},
          "execution_count": 18
        }
      ]
    },
    {
      "cell_type": "code",
      "source": [
        "dict_quotes_Sel_web['Cita'].nunique()"
      ],
      "metadata": {
        "colab": {
          "base_uri": "https://localhost:8080/"
        },
        "id": "RyIOGrEq7pB-",
        "outputId": "430e7067-c288-485f-f6b4-362ef880591c"
      },
      "execution_count": null,
      "outputs": [
        {
          "output_type": "execute_result",
          "data": {
            "text/plain": [
              "100"
            ]
          },
          "metadata": {},
          "execution_count": 19
        }
      ]
    },
    {
      "cell_type": "code",
      "source": [
        "dict_quotes_Sel_web.dtypes"
      ],
      "metadata": {
        "colab": {
          "base_uri": "https://localhost:8080/"
        },
        "id": "JZMxlhw77o_G",
        "outputId": "c2ac2ee0-84d6-4cfa-ee47-18ea71c08ad3"
      },
      "execution_count": null,
      "outputs": [
        {
          "output_type": "execute_result",
          "data": {
            "text/plain": [
              "Cita        object\n",
              "Autor       object\n",
              "Keywords    object\n",
              "dtype: object"
            ]
          },
          "metadata": {},
          "execution_count": 20
        }
      ]
    },
    {
      "cell_type": "code",
      "source": [
        "# guardamos los datos en un archivo\n",
        "dict_quotes_Sel_web.to_csv('quotes_scraping_Sel.csv', index = False)"
      ],
      "metadata": {
        "id": "acpl8caj7o8B"
      },
      "execution_count": null,
      "outputs": []
    },
    {
      "cell_type": "code",
      "source": [
        "# cerramos el navegador\n",
        "browser.close()"
      ],
      "metadata": {
        "id": "0Yf1uV3NCrs3"
      },
      "execution_count": null,
      "outputs": []
    },
    {
      "cell_type": "markdown",
      "source": [
        "# Segunda Web www.wikipedia.es\n",
        "\n",
        "## **Web Scraping utilizando Beautiful Soup.**"
      ],
      "metadata": {
        "id": "AilWiLQR2Az4"
      }
    },
    {
      "cell_type": "code",
      "source": [
        "#  Hacemos una petición GET a la página que queremos scrapear\n",
        "# ==============================================================================\n",
        "url = \"https://es.wikipedia.org/wiki/Beautiful_Soup\"\n",
        "response = requests.get(url)\n",
        "\n",
        "# Analizamos el contenido de la página con BeautifulSoup\n",
        "# ==============================================================================\n",
        "soup = BeautifulSoup(response.content, \"html.parser\")"
      ],
      "metadata": {
        "id": "Yh5FlRoECrow"
      },
      "execution_count": null,
      "outputs": []
    },
    {
      "cell_type": "code",
      "source": [
        "# Buscamos el contenido que necesitamos dentro de nuestro código HTML\n",
        "# ==============================================================================\n",
        "results = soup.find(id='content')"
      ],
      "metadata": {
        "id": "G37JJp9U3Oqe"
      },
      "execution_count": null,
      "outputs": []
    },
    {
      "cell_type": "code",
      "source": [
        "# Título de la búsqueda\n",
        "# ==============================================================================\n",
        "job_elements = results.find('h1', class_='firstHeading')\n",
        "print(job_elements.text)"
      ],
      "metadata": {
        "colab": {
          "base_uri": "https://localhost:8080/"
        },
        "id": "8ImHi09j3VB3",
        "outputId": "f1e6d66f-2ffa-4b75-c21a-9d996a618ffd"
      },
      "execution_count": null,
      "outputs": [
        {
          "output_type": "stream",
          "name": "stdout",
          "text": [
            "Beautiful Soup\n"
          ]
        }
      ]
    },
    {
      "cell_type": "code",
      "source": [
        "# Primera definición de la búsqueda.\n",
        "# ==============================================================================\n",
        "job_elements = results.find('div', class_='mw-parser-output').find('p')\n",
        "print(job_elements.text)"
      ],
      "metadata": {
        "colab": {
          "base_uri": "https://localhost:8080/"
        },
        "id": "fYzj9VzW42NC",
        "outputId": "a60fac46-fa94-4f5c-acd0-c7790e20f6a4"
      },
      "execution_count": null,
      "outputs": [
        {
          "output_type": "stream",
          "name": "stdout",
          "text": [
            "Beautiful Soup es una biblioteca de Python para analizar documentos HTML (incluyendo los que tienen un marcado incorrecto). Esta biblioteca crea un árbol con todos los elementos del documento y puede ser utilizado para extraer información. Por lo tanto, esta biblioteca es útil para realizar web scraping — extraer información de sitios web.[2]​\n",
            "\n"
          ]
        }
      ]
    },
    {
      "cell_type": "markdown",
      "source": [
        "# **Web Scraping con Selenium.**"
      ],
      "metadata": {
        "id": "Vn40_ICb6BuU"
      }
    },
    {
      "cell_type": "code",
      "source": [
        "# abrimos el navegador\n",
        "# ==============================================================================\n",
        "browser= web_driver()\n",
        "\n",
        "# contactamos con la web\n",
        "# ==============================================================================\n",
        "browser.get('https://es.wikipedia.org/wiki/Beautiful_Soup')"
      ],
      "metadata": {
        "id": "Avl8svOx42Ho"
      },
      "execution_count": null,
      "outputs": []
    },
    {
      "cell_type": "code",
      "source": [
        " # leemos el contenido\n",
        " # ==============================================================================\n",
        " results = browser.find_element(By.CLASS_NAME, value = 'mw-parser-output')\n",
        " # Contenido general de la página de Wikipedia correspondiente a la búsqueda Beautifu Soup.\n",
        "# ==============================================================================\n",
        " print(results.text)"
      ],
      "metadata": {
        "colab": {
          "base_uri": "https://localhost:8080/"
        },
        "id": "9L78WF3K99f-",
        "outputId": "fc7f0835-ba71-429b-839e-4b5c4493cea8"
      },
      "execution_count": null,
      "outputs": [
        {
          "output_type": "stream",
          "name": "stdout",
          "text": [
            "Beautiful Soup\n",
            "Información general\n",
            "Tipo de programa Parseador HTML, web scraping\n",
            "Autor Leonard Richardson\n",
            "Licencia Python Software Foundation License (Inferior a la versión 4)\n",
            "Licencia MIT (A partir de la versión 4)1\n",
            "Información técnica\n",
            "Programado en Python\n",
            "Plataformas admitidas Python\n",
            "Versiones\n",
            "Última versión estable 4.11.1\n",
            "8 de abril de 2022\n",
            "Enlaces\n",
            "Sitio web oficial\n",
            "Repositorio de código\n",
            "[editar datos en Wikidata]\n",
            "Beautiful Soup es una biblioteca de Python para analizar documentos HTML (incluyendo los que tienen un marcado incorrecto). Esta biblioteca crea un árbol con todos los elementos del documento y puede ser utilizado para extraer información. Por lo tanto, esta biblioteca es útil para realizar web scraping — extraer información de sitios web.2\n",
            "Está disponible para Python 3.\n",
            "Código de ejemplo[editar]\n",
            "# extracción de todos los enlaces de un documento html\n",
            "from bs4 import BeautifulSoup\n",
            "\n",
            "with open(\"./index.html\") as f:\n",
            "    soup = BeautifulSoup(f)\n",
            " \n",
            "for anchor in soup.find_all('a'):\n",
            "    print(anchor.get('href', '/'))\n",
            "Referencias[editar]\n",
            "↑ «Beautiful Soup website». Consultado el 18 de abril de 2012. «Beautiful Soup is licensed under the same terms as Python itself ».\n",
            "↑ «Beautiful Soup website». Consultado el 18 de abril de 2012.\n",
            "Control de autoridades\n",
            "Proyectos Wikimedia Datos: Q2893296 Informática Arch Linux: python2-beautifulsoup4 AUR: python2-beautifulsoup3 Free Software Directory: Beautiful_Soup Gentoo: dev-python/beautifulsoup Open Hub: p_10784\n"
          ]
        }
      ]
    },
    {
      "cell_type": "code",
      "source": [
        "# Definición obtenida en la página.\n",
        "# ==============================================================================\n",
        "contenido = results.find_element(By.TAG_NAME, value = 'p')\n",
        "print(contenido.text)"
      ],
      "metadata": {
        "colab": {
          "base_uri": "https://localhost:8080/"
        },
        "id": "lRuyYSA4-qW_",
        "outputId": "b71ae2d0-6cdf-4844-a6f2-4369d30865a4"
      },
      "execution_count": null,
      "outputs": [
        {
          "output_type": "stream",
          "name": "stdout",
          "text": [
            "Beautiful Soup es una biblioteca de Python para analizar documentos HTML (incluyendo los que tienen un marcado incorrecto). Esta biblioteca crea un árbol con todos los elementos del documento y puede ser utilizado para extraer información. Por lo tanto, esta biblioteca es útil para realizar web scraping — extraer información de sitios web.2\n"
          ]
        }
      ]
    },
    {
      "cell_type": "code",
      "source": [
        "browser.close()"
      ],
      "metadata": {
        "id": "6s0S58wL-8Fh"
      },
      "execution_count": null,
      "outputs": []
    },
    {
      "cell_type": "markdown",
      "source": [
        "# Ejercicio 2\n",
        "\n",
        "**Documenta en un Word tu conjunto de datos generado con la información que tienen los distintos archivos de Kaggle.**\n",
        "\n",
        "Para saber más\n",
        "\n",
        "A modo de ejemplo de lo que se pide puedes consultar este enlace:\n",
        "\n",
        "* https://www.kaggle.com/datasets/vivovinco/20212022-football-team-stats .\n",
        "\n",
        "## **Sobre los dataset obtenidos con Beautiful Soup y https://quotes.toscrape.com/**\n",
        "\n",
        "**Primer dataset.**\n",
        "\n",
        "Este dataset recoge las citas contenidas en la web https://quotes.toscrape.com/, tiene 100 registros y cuatro columnas tipo objeto:\n",
        "\n",
        "* Cita: citas extraidas de la web, 100 valores únicos\n",
        "\n",
        "* Etiqueta Life:  Se obtuvo un dataframe con las citas de la página de la etiqueta \"life\".\n",
        "\n",
        "# Sobre el dataset obtenido con Selenium y https://quotes.toscrape.com/\n",
        "\n",
        "* Cita: citas extraidas de la web, 100 valores únicos\n",
        "\n",
        "* Autor: autores de las citas, 50 valores únicos\n",
        "\n",
        "* Keywords: palabras representativas de la cita, variable categórica\n",
        "\n",
        "## **Sobre los dataset obtenidos con Beautiful Soup y Selenium de la página www.wikipedia.es**\n",
        "\n",
        "Se consulto:\n",
        "\n",
        "* El título y el concepto de **Beautiful Soup**\n",
        "\n",
        "\n",
        "\n"
      ],
      "metadata": {
        "id": "nLxynJ3NCsV1"
      }
    },
    {
      "cell_type": "markdown",
      "source": [
        "# Ejercicio 3\n",
        "\n",
        "Elige una página web que quieras y realiza web scraping mediante la librería Selenium primero y Scrapy después. \n",
        "\n",
        "# **Web Scraping con Selenium.**"
      ],
      "metadata": {
        "id": "c2DNIynpCtvg"
      }
    },
    {
      "cell_type": "code",
      "source": [
        "from selenium.webdriver.support.ui import WebDriverWait\n",
        "from selenium.webdriver.support import expected_conditions as EC"
      ],
      "metadata": {
        "id": "BuPbiG35RsLk"
      },
      "execution_count": null,
      "outputs": []
    },
    {
      "cell_type": "code",
      "source": [
        "# abrimos el navegador\n",
        "# ==============================================================================\n",
        "browser= web_driver()\n",
        "\n",
        "# contactamos con la web\n",
        "# ==============================================================================\n",
        "browser.get(\"https://twitter.com/search?q=ChatGPT&src=typeahead_click\")"
      ],
      "metadata": {
        "id": "ENnJrobZHWuE"
      },
      "execution_count": null,
      "outputs": []
    },
    {
      "cell_type": "code",
      "source": [
        "# Localizar todos los elementos con el XPath específico\n",
        "elements = browser.find_elements(By.XPATH, '//span[@class=\"css-901oao css-16my406 r-poiln3 r-bcqeeo r-qvutc0\"]')"
      ],
      "metadata": {
        "id": "620MxyKAf74h"
      },
      "execution_count": null,
      "outputs": []
    },
    {
      "cell_type": "code",
      "source": [
        "# Imprimir el texto dentro de cada elemento\n",
        "for element in elements:\n",
        "    print(element.text)"
      ],
      "metadata": {
        "colab": {
          "base_uri": "https://localhost:8080/"
        },
        "id": "wvic3UhxzLMp",
        "outputId": "28a384c1-bc10-4e7e-9706-9ada94279769"
      },
      "execution_count": null,
      "outputs": [
        {
          "output_type": "stream",
          "name": "stdout",
          "text": [
            "Don’t miss what’s happening\n",
            "People on Twitter are the first to know.\n",
            "Log in\n",
            "Sign up\n",
            "Explore\n",
            "Settings\n",
            "Top\n",
            "Latest\n",
            "People\n",
            "Photos\n",
            "Videos\n",
            "\n",
            "People\n",
            "ChatGPT NFT Club\n",
            "@ChatGPTNFTs\n",
            "Follow\n",
            "10,000 NFT - 0.07 ETH\n",
            "ChatGPT Chef\n",
            "@ChatGPTChef\n",
            "Follow\n",
            "Cooking Interesting ChatGPT content. And helping users to understand\n",
            "better Note: All the content generated using ChatGPT for Research. Use carefully\n",
            "R “Ray” Wang 王瑞光 #1A #AI #ChatGPT #StableDiffusion\n",
            "@rwang0\n",
            "Follow\n",
            "\n",
            "\n",
            "2X BestSelling Author\n",
            "\n",
            "Keynoter\n",
            "Provocateur\n",
            "\n",
            "\n",
            "\n",
            "\n",
            "View all\n",
            "推特 电报 谷歌 chatgpt 脸书 line tiktok ins账号出售批发\n",
            "@UmerHayree\n",
            "·\n",
            "When you are sad, eat a candy and tell yourself that life is sweet! 47. Success is from failure to failure, and the original enthusiasm is not reduced at all. \n",
            "10\n",
            "10\n",
            "10\n",
            "3\n",
            "推特账号 电报号 谷歌账号 Chat GPT账号 ins账号 出售批发\n",
            "@EsthefaniaB\n",
            "·\n",
            "As long as you outlive your competitors, you win. 59. Those who are stronger than me are still working hard. I have no reason not to work hard. \n",
            "10\n",
            "10\n",
            "10\n",
            "5\n",
            "推特账号 电报号 谷歌账号 Chat GPT账号 ins账号 出售批发\n",
            "@EsthefaniaB\n",
            "·\n",
            "People who only fantasize but do not act will never experience the joy of harvesting the fruits. 57. The appearance of the world depends on the way you stare at it. \n",
            "10\n",
            "10\n",
            "10\n",
            "32\n",
            "推特 电报 谷歌 chatgpt 脸书 line tiktok ins账号出售批发\n",
            "@UmerHayree\n",
            "·\n",
            "Facing adversity bravely, even if the original dream cannot be realized, it will open the door to another dream. 60. When you want to give up, think about why you persisted here in the first place. \n",
            "10\n",
            "10\n",
            "10\n",
            "26\n",
            "推特 电报 谷歌 chatgpt 脸书 line tiktok ins账号出售批发\n",
            "@UmerHayree\n",
            "·\n",
            "The first youth is given by God; the second youth is made by oneself. 18. Complain about being in the dark, it is better to move forward with a \n",
            "10\n",
            "10\n",
            "10\n",
            "63\n",
            "unusual_whales\n",
            "@unusual_whales\n",
            "·\n",
            "Prompt engineers for AI, including \n",
            ", are getting paid up to $335,000, per Bloomberg.\n",
            "21\n",
            "11\n",
            "62\n",
            "13.2K\n",
            "New to Twitter?\n",
            "Sign up now to get your own personalized timeline!\n",
            "Sign up with Apple\n",
            "Create account\n",
            "Terms of Service\n",
            "Privacy Policy\n",
            "Cookie Use.\n",
            "Search filters\n",
            "People\n",
            "From anyone\n",
            "People you follow\n",
            "Location\n",
            "Anywhere\n",
            "Near you\n",
            "Advanced search\n",
            "What’s happening\n",
            "IPL\n",
            "·\n",
            "LIVE\n",
            "Royal Challengers Bangalore vs Lucknow Super Giants\n",
            "Trending in United States\n",
            "Louisville\n",
            "Old National Bank\n",
            "Active Shooter\n",
            "Music · Trending\n",
            "Maribel Guardia\n",
            "24.3K Tweets\n",
            "Sports · Trending\n",
            "Vidic\n",
            "44.7K Tweets\n",
            "Sports · Trending\n",
            "Dwayne Haskins\n",
            "6,411 Tweets\n",
            "Show more\n",
            "Terms of Service\n",
            "Privacy Policy\n",
            "Cookie Policy\n",
            "Accessibility\n",
            "Ads info\n",
            "More\n",
            "© 2023 Twitter, Inc.\n"
          ]
        }
      ]
    },
    {
      "cell_type": "code",
      "source": [
        "browser.close()"
      ],
      "metadata": {
        "id": "T10myI7T1BBA"
      },
      "execution_count": null,
      "outputs": []
    }
  ]
}