{
 "cells": [
  {
   "cell_type": "markdown",
   "metadata": {},
   "source": [
    "Ejercicios de análisis descriptivo y gráfico con Python"
   ]
  },
  {
   "cell_type": "code",
   "execution_count": 1,
   "metadata": {},
   "outputs": [],
   "source": [
    "import pandas as pd\n",
    "import numpy as np\n",
    "import matplotlib.pyplot as plt\n",
    "import seaborn as sns"
   ]
  },
  {
   "cell_type": "markdown",
   "metadata": {},
   "source": [
    "• Ejercicio 1:\n",
    "\n",
    "Carga el subconjunto de datos Locales catastral según uso adjunto en un pandas dataframe y observa que sólo hay un solo valor en la variable         'Concepto'. "
   ]
  },
  {
   "cell_type": "code",
   "execution_count": 2,
   "metadata": {},
   "outputs": [
    {
     "data": {
      "text/html": [
       "<div>\n",
       "<style scoped>\n",
       "    .dataframe tbody tr th:only-of-type {\n",
       "        vertical-align: middle;\n",
       "    }\n",
       "\n",
       "    .dataframe tbody tr th {\n",
       "        vertical-align: top;\n",
       "    }\n",
       "\n",
       "    .dataframe thead th {\n",
       "        text-align: right;\n",
       "    }\n",
       "</style>\n",
       "<table border=\"1\" class=\"dataframe\">\n",
       "  <thead>\n",
       "    <tr style=\"text-align: right;\">\n",
       "      <th></th>\n",
       "      <th>Codi_districte</th>\n",
       "      <th>Nom_districte</th>\n",
       "      <th>Codi_barri</th>\n",
       "      <th>Nom_barri</th>\n",
       "      <th>Seccio_censal</th>\n",
       "      <th>Desc_us_desti_principal</th>\n",
       "      <th>Concepte</th>\n",
       "      <th>Nombre</th>\n",
       "    </tr>\n",
       "  </thead>\n",
       "  <tbody>\n",
       "    <tr>\n",
       "      <th>0</th>\n",
       "      <td>1</td>\n",
       "      <td>Ciutat Vella</td>\n",
       "      <td>1</td>\n",
       "      <td>el Raval</td>\n",
       "      <td>1</td>\n",
       "      <td>Habitatge</td>\n",
       "      <td>Valor_€</td>\n",
       "      <td>66331900.15</td>\n",
       "    </tr>\n",
       "    <tr>\n",
       "      <th>1</th>\n",
       "      <td>1</td>\n",
       "      <td>Ciutat Vella</td>\n",
       "      <td>1</td>\n",
       "      <td>el Raval</td>\n",
       "      <td>1</td>\n",
       "      <td>Aparcaments</td>\n",
       "      <td>Valor_€</td>\n",
       "      <td>2085314.09</td>\n",
       "    </tr>\n",
       "    <tr>\n",
       "      <th>2</th>\n",
       "      <td>1</td>\n",
       "      <td>Ciutat Vella</td>\n",
       "      <td>1</td>\n",
       "      <td>el Raval</td>\n",
       "      <td>1</td>\n",
       "      <td>Comerç</td>\n",
       "      <td>Valor_€</td>\n",
       "      <td>11754825.21</td>\n",
       "    </tr>\n",
       "    <tr>\n",
       "      <th>3</th>\n",
       "      <td>1</td>\n",
       "      <td>Ciutat Vella</td>\n",
       "      <td>1</td>\n",
       "      <td>el Raval</td>\n",
       "      <td>1</td>\n",
       "      <td>Magatzem</td>\n",
       "      <td>Valor_€</td>\n",
       "      <td>8153377.19</td>\n",
       "    </tr>\n",
       "    <tr>\n",
       "      <th>4</th>\n",
       "      <td>1</td>\n",
       "      <td>Ciutat Vella</td>\n",
       "      <td>1</td>\n",
       "      <td>el Raval</td>\n",
       "      <td>1</td>\n",
       "      <td>Oficina</td>\n",
       "      <td>Valor_€</td>\n",
       "      <td>18875939.45</td>\n",
       "    </tr>\n",
       "    <tr>\n",
       "      <th>...</th>\n",
       "      <td>...</td>\n",
       "      <td>...</td>\n",
       "      <td>...</td>\n",
       "      <td>...</td>\n",
       "      <td>...</td>\n",
       "      <td>...</td>\n",
       "      <td>...</td>\n",
       "      <td>...</td>\n",
       "    </tr>\n",
       "    <tr>\n",
       "      <th>8619</th>\n",
       "      <td>10</td>\n",
       "      <td>Sant Martí</td>\n",
       "      <td>73</td>\n",
       "      <td>la Verneda i la Pau</td>\n",
       "      <td>142</td>\n",
       "      <td>Sanitat</td>\n",
       "      <td>Valor_€</td>\n",
       "      <td>864632.35</td>\n",
       "    </tr>\n",
       "    <tr>\n",
       "      <th>8620</th>\n",
       "      <td>10</td>\n",
       "      <td>Sant Martí</td>\n",
       "      <td>73</td>\n",
       "      <td>la Verneda i la Pau</td>\n",
       "      <td>142</td>\n",
       "      <td>Religiós</td>\n",
       "      <td>Valor_€</td>\n",
       "      <td>822219.11</td>\n",
       "    </tr>\n",
       "    <tr>\n",
       "      <th>8621</th>\n",
       "      <td>10</td>\n",
       "      <td>Sant Martí</td>\n",
       "      <td>73</td>\n",
       "      <td>la Verneda i la Pau</td>\n",
       "      <td>143</td>\n",
       "      <td>Habitatge</td>\n",
       "      <td>Valor_€</td>\n",
       "      <td>37659814.22</td>\n",
       "    </tr>\n",
       "    <tr>\n",
       "      <th>8622</th>\n",
       "      <td>10</td>\n",
       "      <td>Sant Martí</td>\n",
       "      <td>73</td>\n",
       "      <td>la Verneda i la Pau</td>\n",
       "      <td>143</td>\n",
       "      <td>Comerç</td>\n",
       "      <td>Valor_€</td>\n",
       "      <td>601580.57</td>\n",
       "    </tr>\n",
       "    <tr>\n",
       "      <th>8623</th>\n",
       "      <td>10</td>\n",
       "      <td>Sant Martí</td>\n",
       "      <td>73</td>\n",
       "      <td>la Verneda i la Pau</td>\n",
       "      <td>143</td>\n",
       "      <td>Ensenyament i cultura</td>\n",
       "      <td>Valor_€</td>\n",
       "      <td>2120854.73</td>\n",
       "    </tr>\n",
       "  </tbody>\n",
       "</table>\n",
       "<p>8624 rows × 8 columns</p>\n",
       "</div>"
      ],
      "text/plain": [
       "      Codi_districte Nom_districte  Codi_barri            Nom_barri  \\\n",
       "0                  1  Ciutat Vella           1             el Raval   \n",
       "1                  1  Ciutat Vella           1             el Raval   \n",
       "2                  1  Ciutat Vella           1             el Raval   \n",
       "3                  1  Ciutat Vella           1             el Raval   \n",
       "4                  1  Ciutat Vella           1             el Raval   \n",
       "...              ...           ...         ...                  ...   \n",
       "8619              10    Sant Martí          73  la Verneda i la Pau   \n",
       "8620              10    Sant Martí          73  la Verneda i la Pau   \n",
       "8621              10    Sant Martí          73  la Verneda i la Pau   \n",
       "8622              10    Sant Martí          73  la Verneda i la Pau   \n",
       "8623              10    Sant Martí          73  la Verneda i la Pau   \n",
       "\n",
       "      Seccio_censal Desc_us_desti_principal Concepte       Nombre  \n",
       "0                 1               Habitatge  Valor_€  66331900.15  \n",
       "1                 1             Aparcaments  Valor_€   2085314.09  \n",
       "2                 1                  Comerç  Valor_€  11754825.21  \n",
       "3                 1                Magatzem  Valor_€   8153377.19  \n",
       "4                 1                 Oficina  Valor_€  18875939.45  \n",
       "...             ...                     ...      ...          ...  \n",
       "8619            142                 Sanitat  Valor_€    864632.35  \n",
       "8620            142                Religiós  Valor_€    822219.11  \n",
       "8621            143               Habitatge  Valor_€  37659814.22  \n",
       "8622            143                  Comerç  Valor_€    601580.57  \n",
       "8623            143   Ensenyament i cultura  Valor_€   2120854.73  \n",
       "\n",
       "[8624 rows x 8 columns]"
      ]
     },
     "execution_count": 2,
     "metadata": {},
     "output_type": "execute_result"
    }
   ],
   "source": [
    "df=pd.read_csv('Dataset locals OpenDataBCN_valors.csv')\n",
    "df"
   ]
  },
  {
   "cell_type": "code",
   "execution_count": 3,
   "metadata": {},
   "outputs": [
    {
     "data": {
      "text/plain": [
       "array(['Valor_€'], dtype=object)"
      ]
     },
     "execution_count": 3,
     "metadata": {},
     "output_type": "execute_result"
    }
   ],
   "source": [
    "df.Concepte.unique()"
   ]
  },
  {
   "cell_type": "markdown",
   "metadata": {},
   "source": [
    "• Ejercicio 2:\n",
    "\n",
    "Para la variable 'Número'  que contiene el valor de los locales catastrales, obtiene la siguiente información:\n",
    "\n",
    "• ¿Cuál es la suma de todos los valores?                                                                                                              \n",
    "• ¿Cuál es el mayor valor? ¿Y el más bajo?                                                                                                            \n",
    "• ¿Cuál es el valor medio de los locales?"
   ]
  },
  {
   "cell_type": "code",
   "execution_count": 4,
   "metadata": {},
   "outputs": [
    {
     "data": {
      "text/plain": [
       "119111714742.16"
      ]
     },
     "execution_count": 4,
     "metadata": {},
     "output_type": "execute_result"
    }
   ],
   "source": [
    "# SUMA DE LA VARIABLE NOMBRE:\n",
    "df['Nombre'].sum()"
   ]
  },
  {
   "cell_type": "code",
   "execution_count": 5,
   "metadata": {},
   "outputs": [
    {
     "data": {
      "text/plain": [
       "245.5"
      ]
     },
     "execution_count": 5,
     "metadata": {},
     "output_type": "execute_result"
    }
   ],
   "source": [
    "# PRECIO MÁS BAJO:\n",
    "df['Nombre'].min()"
   ]
  },
  {
   "cell_type": "code",
   "execution_count": 6,
   "metadata": {},
   "outputs": [
    {
     "data": {
      "text/plain": [
       "706237909.61"
      ]
     },
     "execution_count": 6,
     "metadata": {},
     "output_type": "execute_result"
    }
   ],
   "source": [
    "# PRECIO MÁXIMO:\n",
    "df['Nombre'].max()"
   ]
  },
  {
   "cell_type": "code",
   "execution_count": 7,
   "metadata": {},
   "outputs": [
    {
     "data": {
      "text/plain": [
       "13811655.23448052"
      ]
     },
     "execution_count": 7,
     "metadata": {},
     "output_type": "execute_result"
    }
   ],
   "source": [
    "# PRECIO MEDIO DE LOS LOCALES:\n",
    "df['Nombre'].mean()"
   ]
  },
  {
   "cell_type": "markdown",
   "metadata": {},
   "source": [
    "• Ejercicio 3:\n",
    "\n",
    "Con la función GroupBy, agrupa el dataset por la variable ' Nombre_distrito ' y realiza un recuento ( count )."
   ]
  },
  {
   "cell_type": "code",
   "execution_count": 8,
   "metadata": {},
   "outputs": [
    {
     "data": {
      "text/plain": [
       "Nom_districte        Codi_districte\n",
       "Eixample             2                 1451\n",
       "Sant Martí           10                1072\n",
       "Horta-Guinardó       7                  971\n",
       "Sants-Montjuïc       3                  955\n",
       "Sarrià-Sant Gervasi  5                  935\n",
       "Nou Barris           8                  800\n",
       "Sant Andreu          9                  752\n",
       "Gràcia               6                  725\n",
       "Les Corts            4                  486\n",
       "Ciutat Vella         1                  477\n",
       "Name: Codi_districte, dtype: int64"
      ]
     },
     "execution_count": 8,
     "metadata": {},
     "output_type": "execute_result"
    }
   ],
   "source": [
    "distritos= df.groupby(\"Nom_districte\")[\"Codi_districte\"].value_counts().sort_values(ascending=False)\n",
    "distritos"
   ]
  },
  {
   "cell_type": "markdown",
   "metadata": {},
   "source": [
    "• Ejercicio 4:\n",
    "\n",
    "Con la agrupación anterior, realiza un gráfico sencillo de barras ( kind = 'bar' ) usando la función . plot  para mostrar gráficamente los registros para cada distrito. Es posible que necesites cargar la librería matplotlib."
   ]
  },
  {
   "cell_type": "code",
   "execution_count": 10,
   "metadata": {},
   "outputs": [
    {
     "data": {
      "image/png": "[encoded data removed]",
      "text/plain": [
       "<Figure size 640x480 with 1 Axes>"
      ]
     },
     "metadata": {},
     "output_type": "display_data"
    }
   ],
   "source": [
    "distritos.plot(kind='bar')\n",
    "cifras= [1451, 1072, 971, 955, 935, 800, 752, 725, 486, 477]\n",
    "width = 0.35\n",
    "x = np.arange(len(distritos))\n",
    "\n",
    "plt.title('DISTRITOS')\n",
    "plt.ylabel('Total de Registros')\n",
    "\n",
    "ax = plt.subplot()\n",
    "cifras_distritos = ax.bar(x -width/2, cifras, ec= 'black')\n",
    "ax.bar_label(cifras_distritos, padding=3)\n",
    "plt.show()"
   ]
  }
 ],
 "metadata": {
  "kernelspec": {
   "display_name": "Python 3.11.0 64-bit",
   "language": "python",
   "name": "python3"
  },
  "language_info": {
   "codemirror_mode": {
    "name": "ipython",
    "version": 3
   },
   "file_extension": ".py",
   "mimetype": "text/x-python",
   "name": "python",
   "nbconvert_exporter": "python",
   "pygments_lexer": "ipython3",
   "version": "3.11.0"
  },
  "orig_nbformat": 4,
  "vscode": {
   "interpreter": {
    "hash": "27c1110b5e405fc710fcb57f45fb47e0ad422e539c59a8efd70236c2a11a631c"
   }
  }
 },
 "nbformat": 4,
 "nbformat_minor": 2
}
