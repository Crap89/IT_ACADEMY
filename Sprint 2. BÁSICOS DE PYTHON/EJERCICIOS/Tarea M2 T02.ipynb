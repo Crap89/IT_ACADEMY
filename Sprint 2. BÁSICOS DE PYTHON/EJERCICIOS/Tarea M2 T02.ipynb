{
 "cells": [
  {
   "cell_type": "code",
   "execution_count": 1,
   "metadata": {},
   "outputs": [],
   "source": [
    "import numpy"
   ]
  },
  {
   "attachments": {},
   "cell_type": "markdown",
   "metadata": {},
   "source": [
    "Ejercicio 1:\n",
    "\n",
    "• El ejercicio consiste en crear un programa que te clasifique una variable numérica en función de la escala Suspendido/Aprobado/Notable/Excelente.\n",
    "• Recuerda que Suspendido < 5, Aprobado > 5 y < 7, Notable > 7 y < 9 y Excelente > 9."
   ]
  },
  {
   "cell_type": "code",
   "execution_count": 2,
   "metadata": {},
   "outputs": [
    {
     "name": "stdout",
     "output_type": "stream",
     "text": [
      "Notable\n"
     ]
    }
   ],
   "source": [
    "nota= float(input('introduzca su nota:'))\n",
    "if nota <5:\n",
    " print('estas Suspendido')\n",
    "elif nota <7:\n",
    "   print('estas Aprobado')\n",
    "elif nota  <=9:\n",
    "   print('Notable')\n",
    "else:\n",
    "   print('Excelente')"
   ]
  },
  {
   "attachments": {},
   "cell_type": "markdown",
   "metadata": {},
   "source": [
    "Ejercicio 2:\n",
    "\n",
    "• Utilizando el siguiente tutorial, crea un programa que te pregunte dos números. Debe mostrarte un mensaje diciendo si el primero es mayor, el segundo es mayor o son iguales.\n",
    "\n",
    "• https://www.programiz.com/python-programming/input-output-import"
   ]
  },
  {
   "cell_type": "code",
   "execution_count": 3,
   "metadata": {},
   "outputs": [
    {
     "name": "stdout",
     "output_type": "stream",
     "text": [
      "El num2 es mayor\n"
     ]
    }
   ],
   "source": [
    "num1=int(input('digite un numero: '))\n",
    "num2=int(input('digite otro numero: '))\n",
    "\n",
    "if num1>num2:\n",
    "  print('El num1 es mayor')\n",
    "elif num1<num2:\n",
    "  print('El num2 es mayor')\n",
    "else:\n",
    "  print('ambos numeros son iguales')"
   ]
  },
  {
   "attachments": {},
   "cell_type": "markdown",
   "metadata": {},
   "source": [
    "Ejercicio 3:\n",
    "\n",
    "• Crea un programa que te pregunte tu nombre y te pida un número. Si el número es 0, debería mostrar un mensaje de error. De lo contrario, debería mostrar el nombre repetido tantas veces como indique el número. Por ejemplo, \"Joan Joan Joan\"."
   ]
  },
  {
   "cell_type": "code",
   "execution_count": 24,
   "metadata": {},
   "outputs": [
    {
     "name": "stdout",
     "output_type": "stream",
     "text": [
      "Carlos\n",
      "Carlos\n",
      "Carlos\n",
      "Carlos\n",
      "Carlos\n",
      "\n"
     ]
    }
   ],
   "source": [
    "nombre = input('¿Cómo te llamas?')\n",
    "numero=int(input('digite un numero:'))\n",
    "\n",
    "if numero>0:\n",
    "    print((nombre + \"\\n\") * int(numero))\n",
    "else:\n",
    "    print('Número no valido')"
   ]
  },
  {
   "attachments": {},
   "cell_type": "markdown",
   "metadata": {},
   "source": [
    "Ejercicio 4:\n",
    "\n",
    "• Crea un programa que dada una lista cualquiera, te diga si es simétrica o no. Si lo es, que te diga cuántos elementos tiene."
   ]
  },
  {
   "cell_type": "code",
   "execution_count": 5,
   "metadata": {},
   "outputs": [
    {
     "name": "stdout",
     "output_type": "stream",
     "text": [
      "La lista es simétrica y tiene 3 elementos\n"
     ]
    }
   ],
   "source": [
    "lista=[[1,0,1],\n",
    "       [0,1,1],\n",
    "       [1,1,1]]\n",
    "\n",
    "respuesta = True\n",
    "\n",
    "for x in range(0,3):\n",
    "        for y in range(x,3):\n",
    "\n",
    "              if(lista[x][y] != lista[y][x]):\n",
    "                respuesta = False\n",
    "\n",
    "if(respuesta==True):\n",
    "    print(\"La lista es simétrica y tiene\", len(lista), \"elementos\")\n",
    "else:\n",
    "     print(\"La lista no es simétrica\")"
   ]
  },
  {
   "attachments": {},
   "cell_type": "markdown",
   "metadata": {},
   "source": [
    "Ejercicio 5:\n",
    "\n",
    "• Crea un programa que dada una lista, te diga cuántos números coinciden con su posición. Por ejemplo [3,4,2,0,2,3,6] el 2 y el 6 coinciden."
   ]
  },
  {
   "cell_type": "code",
   "execution_count": 22,
   "metadata": {},
   "outputs": [
    {
     "name": "stdout",
     "output_type": "stream",
     "text": [
      "El numero 6 se encuentra en la posicion 7\n",
      "El numero 6 se repite 1\n"
     ]
    }
   ],
   "source": [
    "numeros = []\n",
    "\n",
    "for i in range(0,7):\n",
    "    n = int(input(\"Ingresa un numero: \"))\n",
    "    numeros.append(n)\n",
    "\n",
    "c = 0\n",
    "x = int(input(\"Ingresa el numero a buscar: \"))\n",
    "\n",
    "for i in range(0,7):\n",
    "    if x == numeros[i]:\n",
    "        print(f\"El numero {x} se encuentra en la posicion {i+1}\")\n",
    "\n",
    "        c += 1\n",
    "\n",
    "print(f\"El numero {x} se repite {c}\")"
   ]
  }
 ],
 "metadata": {
  "kernelspec": {
   "display_name": "Python 3",
   "language": "python",
   "name": "python3"
  },
  "language_info": {
   "codemirror_mode": {
    "name": "ipython",
    "version": 3
   },
   "file_extension": ".py",
   "mimetype": "text/x-python",
   "name": "python",
   "nbconvert_exporter": "python",
   "pygments_lexer": "ipython3",
   "version": "3.11.0"
  },
  "orig_nbformat": 4,
  "vscode": {
   "interpreter": {
    "hash": "27c1110b5e405fc710fcb57f45fb47e0ad422e539c59a8efd70236c2a11a631c"
   }
  }
 },
 "nbformat": 4,
 "nbformat_minor": 2
}
