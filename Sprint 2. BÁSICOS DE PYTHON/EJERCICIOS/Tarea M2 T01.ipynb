{
 "cells": [
  {
   "cell_type": "code",
   "execution_count": 18,
   "metadata": {},
   "outputs": [],
   "source": [
    "import heapq\n",
    "import numpy"
   ]
  },
  {
   "attachments": {},
   "cell_type": "markdown",
   "metadata": {},
   "source": [
    "Ejercicio 1:\n",
    "\n",
    "Crea una lista que agrupe los meses del año en trimestres (1T: enero, febrero y marzo; 2T: abril, mayo, junio...), es decir, una lista con 4 listas dentro."
   ]
  },
  {
   "cell_type": "code",
   "execution_count": 19,
   "metadata": {},
   "outputs": [],
   "source": [
    "multilista= [['enero', 'febrero', 'marzo'], \n",
    "             ['abril', 'mayo', 'junio'],\n",
    "             ['julio', 'agosto', 'septiembre'],\n",
    "             ['octubre', 'noviembre', 'diciembre']]"
   ]
  },
  {
   "attachments": {},
   "cell_type": "markdown",
   "metadata": {},
   "source": [
    "Ejercicio 2:\n",
    "\n",
    "Crea un código que te permita acceder a:\n",
    "\n",
    "• El segundo mes del primer trimestre.\n",
    "• Los meses del primer trimestre.\n",
    "• Septiembre y octubre."
   ]
  },
  {
   "cell_type": "code",
   "execution_count": 20,
   "metadata": {},
   "outputs": [
    {
     "name": "stdout",
     "output_type": "stream",
     "text": [
      "febrero \n",
      "['enero', 'febrero', 'marzo'] \n",
      "septiembre \\ octubre\n"
     ]
    }
   ],
   "source": [
    "print(f\"{multilista[0][1]} \\n{multilista[0]} \\n{multilista[2][2]} \\ {multilista[3][0]}\")"
   ]
  },
  {
   "attachments": {},
   "cell_type": "markdown",
   "metadata": {},
   "source": [
    "Ejercicio 3:\n",
    "\n",
    "Crea una lista con números desordenados y responde a las siguientes preguntas:\n",
    "\n",
    "• ¿Cuántos números hay?\n",
    "• Cuántas veces aparece el número 3.\n",
    "• ¿Cuántas veces aparecen los números 3 y 4?\n",
    "• ¿Cuál es el mayor número?\n",
    "• ¿Cuáles son los 3 números más pequeños?\n",
    "• ¿Cuál es el rango de esa lista?"
   ]
  },
  {
   "cell_type": "code",
   "execution_count": 21,
   "metadata": {},
   "outputs": [],
   "source": [
    "numeros= [10,4,1,8,3,21,4,3]"
   ]
  },
  {
   "cell_type": "code",
   "execution_count": 22,
   "metadata": {},
   "outputs": [
    {
     "name": "stdout",
     "output_type": "stream",
     "text": [
      "Total de números en la lista: 8\n",
      "Cuántas veces aparece el número 3: 2\n",
      "El número mayor es: 21\n",
      "Los tres números más pequeños son: [1, 3, 3]\n"
     ]
    }
   ],
   "source": [
    "print(\"Total de números en la lista:\", len(numeros))\n",
    "print(\"Cuántas veces aparece el número 3:\", (numeros.count(3)))\n",
    "print(\"El número mayor es:\", max(numeros))\n",
    "print(\"Los tres números más pequeños son:\", heapq.nsmallest(3,numeros))"
   ]
  },
  {
   "cell_type": "code",
   "execution_count": 23,
   "metadata": {},
   "outputs": [
    {
     "name": "stdout",
     "output_type": "stream",
     "text": [
      "{4: 2, 3: 2}\n"
     ]
    }
   ],
   "source": [
    "# Número de veces que aparecen el 4 y el 3:\n",
    "\n",
    "repeticiones = {}\n",
    "for i in numeros:\n",
    "    if numeros.count(i) > 1:\n",
    "        repeticiones[i] = numeros.count(i)\n",
    "\n",
    "print(repeticiones)"
   ]
  },
  {
   "cell_type": "code",
   "execution_count": 24,
   "metadata": {},
   "outputs": [
    {
     "data": {
      "text/plain": [
       "[0, 1, 2, 3, 4, 5, 6, 7]"
      ]
     },
     "execution_count": 24,
     "metadata": {},
     "output_type": "execute_result"
    }
   ],
   "source": [
    "# Rango de la lista opción 1:\n",
    "list(range(len(numeros)))"
   ]
  },
  {
   "cell_type": "code",
   "execution_count": 25,
   "metadata": {},
   "outputs": [
    {
     "data": {
      "text/plain": [
       "[10, 4, 1, 8, 3, 21, 4, 3]"
      ]
     },
     "execution_count": 25,
     "metadata": {},
     "output_type": "execute_result"
    }
   ],
   "source": [
    "# Rango de la lista opción 2:\n",
    "numeros[0:8]"
   ]
  },
  {
   "attachments": {},
   "cell_type": "markdown",
   "metadata": {},
   "source": [
    "Ejercicio 4:\n",
    "\n",
    "Crea un diccionario de la siguiente forma y responde a las preguntas:\n",
    "\n",
    "compra = { \"Pomes\" : {\"Qty\": 5, \"€\": 0.42}, \"Peres\" : {\"Qty\": 3, \"€\": 0.66} }\n",
    "\n",
    "• Añade alguna fruta más\n",
    "• ¿Cuánto han costado las peras en total?\n",
    "• ¿Cuántas frutas hemos comprado en total?\n",
    "• ¿Cuál es la fruta más cara?"
   ]
  },
  {
   "cell_type": "code",
   "execution_count": 26,
   "metadata": {},
   "outputs": [
    {
     "data": {
      "text/plain": [
       "{'Pomes': {'Qty': 5, '€': 0.42}, 'Peres': {'Qty': 3, '€': 0.66}}"
      ]
     },
     "execution_count": 26,
     "metadata": {},
     "output_type": "execute_result"
    }
   ],
   "source": [
    "\n",
    "compra = {\"Pomes\": {\"Qty\": 5, \"€\": 0.42}, \"Peres\" : {\"Qty\": 3, \"€\": 0.66}}\n",
    "compra"
   ]
  },
  {
   "cell_type": "code",
   "execution_count": 27,
   "metadata": {},
   "outputs": [
    {
     "data": {
      "text/plain": [
       "{'Pomes': {'Qty': 5, '€': 0.42},\n",
       " 'Peres': {'Qty': 3, '€': 0.66},\n",
       " 'fresas': {'Qty': 8, '€': 0.82}}"
      ]
     },
     "execution_count": 27,
     "metadata": {},
     "output_type": "execute_result"
    }
   ],
   "source": [
    "# Añade alguna fruta más:\n",
    "\n",
    "compra.update({\"fresas\":{\"Qty\":8, \"€\": 0.82}})\n",
    "compra"
   ]
  },
  {
   "cell_type": "code",
   "execution_count": 28,
   "metadata": {},
   "outputs": [
    {
     "data": {
      "text/plain": [
       "{'Qty': 3, '€': 0.66}"
      ]
     },
     "execution_count": 28,
     "metadata": {},
     "output_type": "execute_result"
    }
   ],
   "source": [
    "# Precio Total de las peras:\n",
    "compra[\"Peres\"]"
   ]
  },
  {
   "cell_type": "code",
   "execution_count": 29,
   "metadata": {},
   "outputs": [
    {
     "data": {
      "text/plain": [
       "[1.98]"
      ]
     },
     "execution_count": 29,
     "metadata": {},
     "output_type": "execute_result"
    }
   ],
   "source": [
    "precio_total_peras = [3 * 0.66]\n",
    "precio_total_peras"
   ]
  },
  {
   "cell_type": "code",
   "execution_count": 30,
   "metadata": {},
   "outputs": [
    {
     "name": "stdout",
     "output_type": "stream",
     "text": [
      "Pomes: 5\n",
      "Peres: 3\n",
      "fresas: 8\n"
     ]
    }
   ],
   "source": [
    "# ¿Cuántas frutas hemos comprado en total?\n",
    "\n",
    "for frutas, datos in compra.items():\n",
    "    print(\"{}: {}\".format(frutas,datos[\"Qty\"]))"
   ]
  },
  {
   "cell_type": "code",
   "execution_count": 31,
   "metadata": {},
   "outputs": [
    {
     "data": {
      "text/plain": [
       "[16]"
      ]
     },
     "execution_count": 31,
     "metadata": {},
     "output_type": "execute_result"
    }
   ],
   "source": [
    "total_frutas= [5 + 3 + 8]\n",
    "total_frutas"
   ]
  },
  {
   "cell_type": "code",
   "execution_count": 32,
   "metadata": {},
   "outputs": [
    {
     "name": "stdout",
     "output_type": "stream",
     "text": [
      "fresas\n"
     ]
    }
   ],
   "source": [
    "# fruta más cara:\n",
    "\n",
    "for frutas, datos in compra.items():\n",
    "    if datos[\"€\"] >= 0.82:\n",
    "        print(frutas)"
   ]
  }
 ],
 "metadata": {
  "kernelspec": {
   "display_name": "Python 3",
   "language": "python",
   "name": "python3"
  },
  "language_info": {
   "codemirror_mode": {
    "name": "ipython",
    "version": 3
   },
   "file_extension": ".py",
   "mimetype": "text/x-python",
   "name": "python",
   "nbconvert_exporter": "python",
   "pygments_lexer": "ipython3",
   "version": "3.11.0 (main, Oct 24 2022, 18:26:48) [MSC v.1933 64 bit (AMD64)]"
  },
  "orig_nbformat": 4,
  "vscode": {
   "interpreter": {
    "hash": "27c1110b5e405fc710fcb57f45fb47e0ad422e539c59a8efd70236c2a11a631c"
   }
  }
 },
 "nbformat": 4,
 "nbformat_minor": 2
}
